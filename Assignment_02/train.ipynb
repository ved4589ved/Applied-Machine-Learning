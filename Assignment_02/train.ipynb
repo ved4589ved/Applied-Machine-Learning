{
  "nbformat": 4,
  "nbformat_minor": 0,
  "metadata": {
    "colab": {
      "provenance": []
    },
    "kernelspec": {
      "name": "python3",
      "display_name": "Python 3"
    },
    "language_info": {
      "name": "python"
    }
  },
  "cells": [
    {
      "cell_type": "code",
      "source": [
        "# ! pip install mlflow"
      ],
      "metadata": {
        "id": "jXGjlSy74vrk"
      },
      "execution_count": 16,
      "outputs": []
    },
    {
      "cell_type": "code",
      "execution_count": 17,
      "metadata": {
        "id": "PzaMqcaME_7S"
      },
      "outputs": [],
      "source": [
        "import pandas as pd\n",
        "import imblearn\n",
        "from imblearn.over_sampling import SMOTE\n",
        "from sklearn.metrics import classification_report, confusion_matrix,accuracy_score,precision_recall_curve,auc\n",
        "import mlflow\n",
        "from urllib.parse import urlparse\n",
        "from markupsafe import escape\n",
        "import numpy as np\n",
        "from sklearn.naive_bayes import GaussianNB\n",
        "from sklearn.linear_model import LogisticRegression\n",
        "from sklearn.ensemble import RandomForestClassifier\n",
        "from sklearn.neural_network import MLPClassifier"
      ]
    },
    {
      "cell_type": "code",
      "source": [],
      "metadata": {
        "id": "s8xd7Ri3Puf4"
      },
      "execution_count": 17,
      "outputs": []
    },
    {
      "cell_type": "code",
      "source": [
        "clean_test= pd.read_csv('clean_test.csv')\n",
        "clean_train= pd.read_csv('clean_train.csv')\n",
        "clean_valid= pd.read_csv('clean_valid.csv')"
      ],
      "metadata": {
        "id": "eevdmFZkFHym"
      },
      "execution_count": 18,
      "outputs": []
    },
    {
      "cell_type": "code",
      "source": [
        "## checking the blance of traing data\n",
        "clean_train.target.value_counts()"
      ],
      "metadata": {
        "colab": {
          "base_uri": "https://localhost:8080/"
        },
        "id": "L9Il_fN8FnBH",
        "outputId": "576aa8c1-6cc4-450d-aa34-abed2fd73e58"
      },
      "execution_count": 19,
      "outputs": [
        {
          "output_type": "execute_result",
          "data": {
            "text/plain": [
              "0    2892\n",
              "1     452\n",
              "Name: target, dtype: int64"
            ]
          },
          "metadata": {},
          "execution_count": 19
        }
      ]
    },
    {
      "cell_type": "code",
      "source": [
        "### our data is imbalance with more value of 0 and less value of 1 so we will use smote oversampling for balancing the dataset"
      ],
      "metadata": {
        "id": "qwK3L8IbZI5G"
      },
      "execution_count": 20,
      "outputs": []
    },
    {
      "cell_type": "code",
      "source": [
        "X_train = clean_train.loc[:, clean_train.columns != 'target']"
      ],
      "metadata": {
        "id": "-BcrKQzEG9T_"
      },
      "execution_count": 21,
      "outputs": []
    },
    {
      "cell_type": "code",
      "source": [
        "X_train=  X_train.values\n",
        "Y_train = clean_train['target'].values"
      ],
      "metadata": {
        "id": "l5MaoAjYHVfy"
      },
      "execution_count": 22,
      "outputs": []
    },
    {
      "cell_type": "code",
      "source": [
        "## our dataset in imbalnce making this balance using smote\n",
        "oversample = SMOTE(random_state=42)\n",
        "X_over, y_over = oversample.fit_resample(X_train, Y_train) ## balnced dataset\n"
      ],
      "metadata": {
        "id": "P1e6_MgWF-aN",
        "colab": {
          "base_uri": "https://localhost:8080/"
        },
        "outputId": "f2bc5021-d51b-4f94-dd53-0ca41ce9a271"
      },
      "execution_count": 23,
      "outputs": [
        {
          "output_type": "stream",
          "name": "stderr",
          "text": [
            "2023/02/27 08:03:09 INFO mlflow.utils.autologging_utils: Created MLflow autologging run with ID '6a485ca6fe304238a5b36dc823eade29', which will track hyperparameters, performance metrics, model artifacts, and lineage information for the current sklearn workflow\n",
            "2023/02/27 08:03:09 WARNING mlflow.sklearn: Training metrics will not be recorded because training labels were not specified. To automatically record training metrics, provide training labels as inputs to the model training function.\n",
            "2023/02/27 08:03:09 WARNING mlflow.sklearn: Failed to infer model signature: the trained model does not specify a `predict` function, which is required in order to infer the signature\n",
            "2023/02/27 08:03:09 WARNING mlflow.sklearn: Model was missing function: predict. Not logging python_function flavor!\n"
          ]
        }
      ]
    },
    {
      "cell_type": "code",
      "source": [
        "X_vaild=clean_valid.loc[:, clean_valid.columns != 'target'].values\n",
        "Y_valid = clean_valid['target'].values"
      ],
      "metadata": {
        "id": "gEgGfTpjGq71"
      },
      "execution_count": 24,
      "outputs": []
    },
    {
      "cell_type": "code",
      "source": [
        "X_test=clean_test.loc[:, clean_test.columns != 'target'].values\n",
        "Y_test = clean_test['target'].values"
      ],
      "metadata": {
        "id": "AzDfH7pFUBz0"
      },
      "execution_count": 25,
      "outputs": []
    },
    {
      "cell_type": "markdown",
      "source": [
        "**Model 1 : logistic Regression model**"
      ],
      "metadata": {
        "id": "9qvutjNzUDi_"
      }
    },
    {
      "cell_type": "code",
      "source": [
        "def eval_metrics(actual, pred):\n",
        "    precision, recall, thresholds = precision_recall_curve(actual, pred)\n",
        "    auc_precision_recall = auc(recall, precision)\n",
        "    return (auc_precision_recall)"
      ],
      "metadata": {
        "id": "KY2gGIuLPoI1"
      },
      "execution_count": 26,
      "outputs": []
    },
    {
      "cell_type": "code",
      "source": [
        "mlflow.sklearn.autolog()\n",
        "\n",
        "n_estimators = 200\n",
        "max_depth = 5\n",
        "clf = LogisticRegression(random_state=101)\n",
        "clf.fit(X_over, y_over)\n",
        "\n",
        "y_pred = clf.predict(X_vaild)\n",
        "aucpr = eval_metrics(Y_valid, y_pred)\n",
        "acc = accuracy_score(Y_valid, y_pred)\n",
        "conf_1=confusion_matrix(Y_valid, y_pred)\n",
        "\n",
        "with mlflow.start_run(run_name=\"logistic Regression\"):\n",
        "  \n",
        "    \n",
        "    mlflow.log_metric(\"accuracy\", acc)\n",
        "    mlflow.log_metric(\"AUCPR\",aucpr)\n",
        "    mlflow.log_dict(np.array(conf_1).tolist(), \"confusion_matrix.json\")\n",
        "    mlflow.sklearn.log_model(clf, \"model\")\n",
        "\n",
        "    print(\"\\nRandom Classifier Model (no_of_estimator={:f}, max_depth={:f}):\".format(n_estimators, max_depth))\n",
        "    print(f\"Accuracy: {acc}\")\n",
        "    print(f\"AUCPR: {aucpr} \")\n",
        "    print(f\"Confusion Matrix: {conf_1} \\n \\n\")\n",
        "    \n",
        "\n",
        "    tracking_url_type_store = urlparse(mlflow.get_tracking_uri()).scheme\n",
        "    mlflow.sklearn.log_model(\n",
        "        sk_model=clf,\n",
        "        artifact_path=\"sklearn-model\",\n",
        "        registered_model_name=\"Logistic Regression\"\n",
        "    )\n",
        "    if tracking_url_type_store != \"file\":\n",
        "      mlflow.sklearn.log_model(clf, \"model\", registered_model_name=\"Logistic Regression\")\n",
        "    else:\n",
        "      mlflow.sklearn.log_model(clf, \"model\")"
      ],
      "metadata": {
        "id": "pYB8Q-DQUJsE",
        "colab": {
          "base_uri": "https://localhost:8080/"
        },
        "outputId": "1e03ee92-98d1-49ee-8fd4-b19da77fb227"
      },
      "execution_count": 27,
      "outputs": [
        {
          "output_type": "stream",
          "name": "stderr",
          "text": [
            "2023/02/27 08:03:11 INFO mlflow.utils.autologging_utils: Created MLflow autologging run with ID '8b961f6272d743e2abc08e38cb777840', which will track hyperparameters, performance metrics, model artifacts, and lineage information for the current sklearn workflow\n"
          ]
        },
        {
          "output_type": "stream",
          "name": "stdout",
          "text": [
            "\n",
            "Random Classifier Model (no_of_estimator=200.000000, max_depth=5.000000):\n",
            "Accuracy: 0.7874439461883408\n",
            "AUCPR: 0.38424645799502405 \n",
            "Confusion Matrix: [[819 156]\n",
            " [ 81  59]] \n",
            " \n",
            "\n"
          ]
        },
        {
          "output_type": "stream",
          "name": "stderr",
          "text": [
            "Registered model 'Logistic Regression' already exists. Creating a new version of this model...\n",
            "2023/02/27 08:03:19 INFO mlflow.tracking._model_registry.client: Waiting up to 300 seconds for model version to finish creation.                     Model name: Logistic Regression, version 2\n",
            "Created version '2' of model 'Logistic Regression'.\n"
          ]
        }
      ]
    },
    {
      "cell_type": "code",
      "source": [
        "## printing 1st model version of logistic regression\n",
        "mlflow.tracking.MlflowClient().get_model_version(\"Logistic Regression\",\"1\")"
      ],
      "metadata": {
        "colab": {
          "base_uri": "https://localhost:8080/"
        },
        "id": "BkmiiyQ1Pn2M",
        "outputId": "2de4b450-47e5-4e89-95c9-517079051bc0"
      },
      "execution_count": 28,
      "outputs": [
        {
          "output_type": "execute_result",
          "data": {
            "text/plain": [
              "<ModelVersion: creation_timestamp=1677484937019, current_stage='None', description=None, last_updated_timestamp=1677484937019, name='Logistic Regression', run_id='37ecd3ac7d5d4bef8979735fd6bc4c7c', run_link=None, source='file:///content/mlruns/0/37ecd3ac7d5d4bef8979735fd6bc4c7c/artifacts/sklearn-model', status='READY', status_message=None, tags={}, user_id=None, version=1>"
            ]
          },
          "metadata": {},
          "execution_count": 28
        }
      ]
    },
    {
      "cell_type": "code",
      "source": [
        "# ! mlflow ui"
      ],
      "metadata": {
        "id": "FI8YKdpUUJlm"
      },
      "execution_count": 29,
      "outputs": []
    },
    {
      "cell_type": "code",
      "source": [],
      "metadata": {
        "id": "iOPw_i5-UJXu"
      },
      "execution_count": 29,
      "outputs": []
    },
    {
      "cell_type": "markdown",
      "source": [
        "## Model 2 :multinomial Naive Bayes"
      ],
      "metadata": {
        "id": "HRf0AUY4R58d"
      }
    },
    {
      "cell_type": "code",
      "source": [
        "mlflow.sklearn.autolog()\n",
        "\n",
        "clf = GaussianNB()\n",
        "clf.fit(X_over, y_over)\n",
        "\n",
        "y_pred = clf.predict(X_vaild)\n",
        "aucpr = eval_metrics(Y_valid, y_pred)\n",
        "acc = accuracy_score(Y_valid, y_pred)\n",
        "conf_2=confusion_matrix(Y_valid, y_pred)\n",
        "\n",
        "with mlflow.start_run(run_name=\"Multinomial Naive Bayes\"):\n",
        "\n",
        "    mlflow.log_metric(\"accuracy\", acc)\n",
        "    mlflow.log_metric(\"AUCPR\",aucpr)\n",
        "    mlflow.sklearn.log_model(clf, \"model\")\n",
        "    mlflow.log_dict(np.array(conf_2).tolist(), \"confusion_matrix.json\")\n",
        "\n",
        "    print(\"\\nMultinomial Naive Bayes\")\n",
        "    print(f\"Accuracy: {acc}\")\n",
        "    print(f\"AUCPR: {aucpr}\")\n",
        "    print(f\"Confusion Matrix: {conf_2} \\n\\n\")\n",
        "    \n",
        "\n",
        "    tracking_url_type_store = urlparse(mlflow.get_tracking_uri()).scheme\n",
        "    mlflow.sklearn.log_model(\n",
        "        sk_model=clf,\n",
        "        artifact_path=\"sklearn-model\",\n",
        "        registered_model_name=\"gaussian-nb-model\"\n",
        "    )\n",
        "    if tracking_url_type_store != \"file\":\n",
        "      mlflow.sklearn.log_model(clf, \"model\", registered_model_name=\"gaussian-nb-model\")\n",
        "    else:\n",
        "      mlflow.sklearn.log_model(clf, \"model\")"
      ],
      "metadata": {
        "id": "qMTiGmtiUeDe",
        "colab": {
          "base_uri": "https://localhost:8080/"
        },
        "outputId": "b4ab7847-5fae-4be2-c502-0c356c2680f6"
      },
      "execution_count": 30,
      "outputs": [
        {
          "output_type": "stream",
          "name": "stderr",
          "text": [
            "2023/02/27 08:03:22 INFO mlflow.utils.autologging_utils: Created MLflow autologging run with ID '8571dc2b526c46728b1381a776229c3d', which will track hyperparameters, performance metrics, model artifacts, and lineage information for the current sklearn workflow\n"
          ]
        },
        {
          "output_type": "stream",
          "name": "stdout",
          "text": [
            "\n",
            "Multinomial Naive Bayes\n",
            "Accuracy: 0.5354260089686098\n",
            "AUCPR: 0.42076306923711515\n",
            "Confusion Matrix: [[508 467]\n",
            " [ 51  89]] \n",
            "\n",
            "\n"
          ]
        },
        {
          "output_type": "stream",
          "name": "stderr",
          "text": [
            "Successfully registered model 'gaussian-nb-model'.\n",
            "2023/02/27 08:03:31 INFO mlflow.tracking._model_registry.client: Waiting up to 300 seconds for model version to finish creation.                     Model name: gaussian-nb-model, version 1\n",
            "Created version '1' of model 'gaussian-nb-model'.\n"
          ]
        }
      ]
    },
    {
      "cell_type": "code",
      "source": [
        "## printing 1st model version of gaussian naive bayes\n",
        "mlflow.tracking.MlflowClient().get_model_version(\"gaussian-nb-model\",\"1\")"
      ],
      "metadata": {
        "id": "tN0eIFvzUeIR",
        "colab": {
          "base_uri": "https://localhost:8080/"
        },
        "outputId": "4b59f70a-d0b2-4ff2-cc2b-5cbeceeca15f"
      },
      "execution_count": 31,
      "outputs": [
        {
          "output_type": "execute_result",
          "data": {
            "text/plain": [
              "<ModelVersion: creation_timestamp=1677485011704, current_stage='None', description=None, last_updated_timestamp=1677485011704, name='gaussian-nb-model', run_id='9db27ca639134277be156fd6b073c234', run_link=None, source='file:///content/mlruns/0/9db27ca639134277be156fd6b073c234/artifacts/sklearn-model', status='READY', status_message=None, tags={}, user_id=None, version=1>"
            ]
          },
          "metadata": {},
          "execution_count": 31
        }
      ]
    },
    {
      "cell_type": "code",
      "source": [],
      "metadata": {
        "id": "s4LMsfdMUoW-"
      },
      "execution_count": 31,
      "outputs": []
    },
    {
      "cell_type": "markdown",
      "source": [
        "**Model 03 : multilayer perceptron**"
      ],
      "metadata": {
        "id": "kJ_dP8i8T7s8"
      }
    },
    {
      "cell_type": "code",
      "source": [
        "mlflow.sklearn.autolog()\n",
        "\n",
        "clf = MLPClassifier(random_state=101,learning_rate='adaptive')\n",
        "clf.fit(X_over, y_over)\n",
        "\n",
        "y_pred = clf.predict(X_vaild)\n",
        "aucpr = eval_metrics(Y_valid, y_pred)\n",
        "acc = accuracy_score(Y_valid, y_pred)\n",
        "conf_3=confusion_matrix(Y_valid, y_pred)\n",
        "\n",
        "with mlflow.start_run(run_name=\"Multilayer Perceptron\"):\n",
        "\n",
        "    mlflow.log_metric(\"accuracy\", acc)\n",
        "    mlflow.log_metric(\"AUCPR\",aucpr)\n",
        "    mlflow.sklearn.log_model(clf, \"model\")\n",
        "    \n",
        "    print(\"\\nMultilayer Perceptron\")\n",
        "    print(f\"Accuracy: {acc}\")\n",
        "    print(f\"AUCPR: {aucpr}\")\n",
        "    print(f\"Confusion Matrix {conf_3} \\n\\n\")\n",
        "    \n",
        "\n",
        "    tracking_url_type_store = urlparse(mlflow.get_tracking_uri()).scheme\n",
        "    mlflow.sklearn.log_model(\n",
        "        sk_model=clf,\n",
        "        artifact_path=\"sklearn-model\",\n",
        "        registered_model_name=\"multilayer-perceptron-model\"\n",
        "    )\n",
        "    if tracking_url_type_store != \"file\":\n",
        "      mlflow.sklearn.log_model(clf, \"model\", registered_model_name=\"multilayer-perceptron-model\")\n",
        "    else:\n",
        "      mlflow.sklearn.log_model(clf, \"model\")"
      ],
      "metadata": {
        "colab": {
          "base_uri": "https://localhost:8080/"
        },
        "id": "q1uPdkzfU1uu",
        "outputId": "713713a0-ac04-4c19-e1f5-d5b45fe60c87"
      },
      "execution_count": 32,
      "outputs": [
        {
          "output_type": "stream",
          "name": "stderr",
          "text": [
            "2023/02/27 08:03:33 INFO mlflow.utils.autologging_utils: Created MLflow autologging run with ID '747a9a634bbd49b184c634d4e1ddf53b', which will track hyperparameters, performance metrics, model artifacts, and lineage information for the current sklearn workflow\n"
          ]
        },
        {
          "output_type": "stream",
          "name": "stdout",
          "text": [
            "\n",
            "Multilayer Perceptron\n",
            "Accuracy: 0.7103139013452915\n",
            "AUCPR: 0.4409002843302636\n",
            "Confusion Matrix [[709 266]\n",
            " [ 57  83]] \n",
            "\n",
            "\n"
          ]
        },
        {
          "output_type": "stream",
          "name": "stderr",
          "text": [
            "Successfully registered model 'multilayer-perceptron-model'.\n",
            "2023/02/27 08:03:46 INFO mlflow.tracking._model_registry.client: Waiting up to 300 seconds for model version to finish creation.                     Model name: multilayer-perceptron-model, version 1\n",
            "Created version '1' of model 'multilayer-perceptron-model'.\n"
          ]
        }
      ]
    },
    {
      "cell_type": "code",
      "source": [
        "## geting 1st model version of multilayer perceptron\n",
        "mlflow.tracking.MlflowClient().get_model_version(\"multilayer-perceptron-model\",\"1\")\n"
      ],
      "metadata": {
        "id": "-lt5FOunaKwW",
        "colab": {
          "base_uri": "https://localhost:8080/"
        },
        "outputId": "9b4a30be-31f0-4d59-910e-7c86c50e0628"
      },
      "execution_count": 35,
      "outputs": [
        {
          "output_type": "execute_result",
          "data": {
            "text/plain": [
              "<ModelVersion: creation_timestamp=1677485026775, current_stage='None', description=None, last_updated_timestamp=1677485026775, name='multilayer-perceptron-model', run_id='47fa9983ff264df7a8d48ca281b712c7', run_link=None, source='file:///content/mlruns/0/47fa9983ff264df7a8d48ca281b712c7/artifacts/sklearn-model', status='READY', status_message=None, tags={}, user_id=None, version=1>"
            ]
          },
          "metadata": {},
          "execution_count": 35
        }
      ]
    },
    {
      "cell_type": "code",
      "source": [
        "! mlflow ui"
      ],
      "metadata": {
        "id": "KMzQdggGZ_Rr"
      },
      "execution_count": null,
      "outputs": []
    },
    {
      "cell_type": "code",
      "source": [],
      "metadata": {
        "id": "JSJbThwg6H94"
      },
      "execution_count": 43,
      "outputs": []
    },
    {
      "cell_type": "code",
      "source": [
        "import os"
      ],
      "metadata": {
        "id": "dd5YrMQH6Qq3"
      },
      "execution_count": 41,
      "outputs": []
    },
    {
      "cell_type": "code",
      "source": [
        "os.listdir('/content')"
      ],
      "metadata": {
        "colab": {
          "base_uri": "https://localhost:8080/"
        },
        "id": "lklroTZC6cT1",
        "outputId": "58c28a79-848a-4ce7-d595-97ee025cad96"
      },
      "execution_count": 42,
      "outputs": [
        {
          "output_type": "execute_result",
          "data": {
            "text/plain": [
              "['.config',\n",
              " 'clean_test.csv',\n",
              " 'mlruns',\n",
              " 'clean_train.csv',\n",
              " 'clean_valid.csv',\n",
              " 'sample_data']"
            ]
          },
          "metadata": {},
          "execution_count": 42
        }
      ]
    },
    {
      "cell_type": "code",
      "source": [],
      "metadata": {
        "id": "pzsXMxBg6h8N"
      },
      "execution_count": null,
      "outputs": []
    }
  ]
}