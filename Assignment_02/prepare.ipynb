{
  "nbformat": 4,
  "nbformat_minor": 0,
  "metadata": {
    "colab": {
      "provenance": []
    },
    "kernelspec": {
      "name": "python3",
      "display_name": "Python 3"
    },
    "language_info": {
      "name": "python"
    }
  },
  "cells": [
    {
      "cell_type": "markdown",
      "source": [
        "**Name : ved Praksh**\n",
        "\n",
        "**Roll No : MDS202153**"
      ],
      "metadata": {
        "id": "so71H_2OAPhn"
      }
    },
    {
      "cell_type": "code",
      "source": [],
      "metadata": {
        "id": "3vJjj665FV_n"
      },
      "execution_count": null,
      "outputs": []
    },
    {
      "cell_type": "code",
      "execution_count": null,
      "metadata": {
        "id": "pwAlO-zeQGKT"
      },
      "outputs": [],
      "source": [
        "## laoding data in ram\n",
        "import pandas as pd\n",
        "import numpy as np\n",
        "\n",
        "data = pd.read_csv('SMSSpamCollection', sep = '\\t',header=None, names=[\"label\", \"sms\"])"
      ]
    },
    {
      "cell_type": "code",
      "source": [
        "data"
      ],
      "metadata": {
        "colab": {
          "base_uri": "https://localhost:8080/",
          "height": 423
        },
        "id": "2n1NMZINRN5d",
        "outputId": "7c830ac9-1316-454e-b748-7aa48200e435"
      },
      "execution_count": null,
      "outputs": [
        {
          "output_type": "execute_result",
          "data": {
            "text/plain": [
              "     label                                                sms\n",
              "0      ham  Go until jurong point, crazy.. Available only ...\n",
              "1      ham                      Ok lar... Joking wif u oni...\n",
              "2     spam  Free entry in 2 a wkly comp to win FA Cup fina...\n",
              "3      ham  U dun say so early hor... U c already then say...\n",
              "4      ham  Nah I don't think he goes to usf, he lives aro...\n",
              "...    ...                                                ...\n",
              "5567  spam  This is the 2nd time we have tried 2 contact u...\n",
              "5568   ham               Will ü b going to esplanade fr home?\n",
              "5569   ham  Pity, * was in mood for that. So...any other s...\n",
              "5570   ham  The guy did some bitching but I acted like i'd...\n",
              "5571   ham                         Rofl. Its true to its name\n",
              "\n",
              "[5572 rows x 2 columns]"
            ],
            "text/html": [
              "\n",
              "  <div id=\"df-1009f3c5-683c-4327-99a7-ce140495ee22\">\n",
              "    <div class=\"colab-df-container\">\n",
              "      <div>\n",
              "<style scoped>\n",
              "    .dataframe tbody tr th:only-of-type {\n",
              "        vertical-align: middle;\n",
              "    }\n",
              "\n",
              "    .dataframe tbody tr th {\n",
              "        vertical-align: top;\n",
              "    }\n",
              "\n",
              "    .dataframe thead th {\n",
              "        text-align: right;\n",
              "    }\n",
              "</style>\n",
              "<table border=\"1\" class=\"dataframe\">\n",
              "  <thead>\n",
              "    <tr style=\"text-align: right;\">\n",
              "      <th></th>\n",
              "      <th>label</th>\n",
              "      <th>sms</th>\n",
              "    </tr>\n",
              "  </thead>\n",
              "  <tbody>\n",
              "    <tr>\n",
              "      <th>0</th>\n",
              "      <td>ham</td>\n",
              "      <td>Go until jurong point, crazy.. Available only ...</td>\n",
              "    </tr>\n",
              "    <tr>\n",
              "      <th>1</th>\n",
              "      <td>ham</td>\n",
              "      <td>Ok lar... Joking wif u oni...</td>\n",
              "    </tr>\n",
              "    <tr>\n",
              "      <th>2</th>\n",
              "      <td>spam</td>\n",
              "      <td>Free entry in 2 a wkly comp to win FA Cup fina...</td>\n",
              "    </tr>\n",
              "    <tr>\n",
              "      <th>3</th>\n",
              "      <td>ham</td>\n",
              "      <td>U dun say so early hor... U c already then say...</td>\n",
              "    </tr>\n",
              "    <tr>\n",
              "      <th>4</th>\n",
              "      <td>ham</td>\n",
              "      <td>Nah I don't think he goes to usf, he lives aro...</td>\n",
              "    </tr>\n",
              "    <tr>\n",
              "      <th>...</th>\n",
              "      <td>...</td>\n",
              "      <td>...</td>\n",
              "    </tr>\n",
              "    <tr>\n",
              "      <th>5567</th>\n",
              "      <td>spam</td>\n",
              "      <td>This is the 2nd time we have tried 2 contact u...</td>\n",
              "    </tr>\n",
              "    <tr>\n",
              "      <th>5568</th>\n",
              "      <td>ham</td>\n",
              "      <td>Will ü b going to esplanade fr home?</td>\n",
              "    </tr>\n",
              "    <tr>\n",
              "      <th>5569</th>\n",
              "      <td>ham</td>\n",
              "      <td>Pity, * was in mood for that. So...any other s...</td>\n",
              "    </tr>\n",
              "    <tr>\n",
              "      <th>5570</th>\n",
              "      <td>ham</td>\n",
              "      <td>The guy did some bitching but I acted like i'd...</td>\n",
              "    </tr>\n",
              "    <tr>\n",
              "      <th>5571</th>\n",
              "      <td>ham</td>\n",
              "      <td>Rofl. Its true to its name</td>\n",
              "    </tr>\n",
              "  </tbody>\n",
              "</table>\n",
              "<p>5572 rows × 2 columns</p>\n",
              "</div>\n",
              "      <button class=\"colab-df-convert\" onclick=\"convertToInteractive('df-1009f3c5-683c-4327-99a7-ce140495ee22')\"\n",
              "              title=\"Convert this dataframe to an interactive table.\"\n",
              "              style=\"display:none;\">\n",
              "        \n",
              "  <svg xmlns=\"http://www.w3.org/2000/svg\" height=\"24px\"viewBox=\"0 0 24 24\"\n",
              "       width=\"24px\">\n",
              "    <path d=\"M0 0h24v24H0V0z\" fill=\"none\"/>\n",
              "    <path d=\"M18.56 5.44l.94 2.06.94-2.06 2.06-.94-2.06-.94-.94-2.06-.94 2.06-2.06.94zm-11 1L8.5 8.5l.94-2.06 2.06-.94-2.06-.94L8.5 2.5l-.94 2.06-2.06.94zm10 10l.94 2.06.94-2.06 2.06-.94-2.06-.94-.94-2.06-.94 2.06-2.06.94z\"/><path d=\"M17.41 7.96l-1.37-1.37c-.4-.4-.92-.59-1.43-.59-.52 0-1.04.2-1.43.59L10.3 9.45l-7.72 7.72c-.78.78-.78 2.05 0 2.83L4 21.41c.39.39.9.59 1.41.59.51 0 1.02-.2 1.41-.59l7.78-7.78 2.81-2.81c.8-.78.8-2.07 0-2.86zM5.41 20L4 18.59l7.72-7.72 1.47 1.35L5.41 20z\"/>\n",
              "  </svg>\n",
              "      </button>\n",
              "      \n",
              "  <style>\n",
              "    .colab-df-container {\n",
              "      display:flex;\n",
              "      flex-wrap:wrap;\n",
              "      gap: 12px;\n",
              "    }\n",
              "\n",
              "    .colab-df-convert {\n",
              "      background-color: #E8F0FE;\n",
              "      border: none;\n",
              "      border-radius: 50%;\n",
              "      cursor: pointer;\n",
              "      display: none;\n",
              "      fill: #1967D2;\n",
              "      height: 32px;\n",
              "      padding: 0 0 0 0;\n",
              "      width: 32px;\n",
              "    }\n",
              "\n",
              "    .colab-df-convert:hover {\n",
              "      background-color: #E2EBFA;\n",
              "      box-shadow: 0px 1px 2px rgba(60, 64, 67, 0.3), 0px 1px 3px 1px rgba(60, 64, 67, 0.15);\n",
              "      fill: #174EA6;\n",
              "    }\n",
              "\n",
              "    [theme=dark] .colab-df-convert {\n",
              "      background-color: #3B4455;\n",
              "      fill: #D2E3FC;\n",
              "    }\n",
              "\n",
              "    [theme=dark] .colab-df-convert:hover {\n",
              "      background-color: #434B5C;\n",
              "      box-shadow: 0px 1px 3px 1px rgba(0, 0, 0, 0.15);\n",
              "      filter: drop-shadow(0px 1px 2px rgba(0, 0, 0, 0.3));\n",
              "      fill: #FFFFFF;\n",
              "    }\n",
              "  </style>\n",
              "\n",
              "      <script>\n",
              "        const buttonEl =\n",
              "          document.querySelector('#df-1009f3c5-683c-4327-99a7-ce140495ee22 button.colab-df-convert');\n",
              "        buttonEl.style.display =\n",
              "          google.colab.kernel.accessAllowed ? 'block' : 'none';\n",
              "\n",
              "        async function convertToInteractive(key) {\n",
              "          const element = document.querySelector('#df-1009f3c5-683c-4327-99a7-ce140495ee22');\n",
              "          const dataTable =\n",
              "            await google.colab.kernel.invokeFunction('convertToInteractive',\n",
              "                                                     [key], {});\n",
              "          if (!dataTable) return;\n",
              "\n",
              "          const docLinkHtml = 'Like what you see? Visit the ' +\n",
              "            '<a target=\"_blank\" href=https://colab.research.google.com/notebooks/data_table.ipynb>data table notebook</a>'\n",
              "            + ' to learn more about interactive tables.';\n",
              "          element.innerHTML = '';\n",
              "          dataTable['output_type'] = 'display_data';\n",
              "          await google.colab.output.renderOutput(dataTable, element);\n",
              "          const docLink = document.createElement('div');\n",
              "          docLink.innerHTML = docLinkHtml;\n",
              "          element.appendChild(docLink);\n",
              "        }\n",
              "      </script>\n",
              "    </div>\n",
              "  </div>\n",
              "  "
            ]
          },
          "metadata": {},
          "execution_count": 3
        }
      ]
    },
    {
      "cell_type": "code",
      "source": [
        "## making spam as 1 and ham as 0\n",
        "for i in range(len(data['label'])):\n",
        "  if data['label'].iloc[i]=='spam':\n",
        "    data['label'].iloc[i]=1\n",
        "  else:\n",
        "    data['label'].iloc[i]=0\n"
      ],
      "metadata": {
        "id": "JMxHYu3YZMT0"
      },
      "execution_count": null,
      "outputs": []
    },
    {
      "cell_type": "code",
      "source": [
        "data.head()"
      ],
      "metadata": {
        "colab": {
          "base_uri": "https://localhost:8080/",
          "height": 206
        },
        "id": "WU1uxUDAaJLc",
        "outputId": "fc10b978-c840-427f-eeed-a6d92861b6b9"
      },
      "execution_count": null,
      "outputs": [
        {
          "output_type": "execute_result",
          "data": {
            "text/plain": [
              "  label                                                sms\n",
              "0     0  Go until jurong point, crazy.. Available only ...\n",
              "1     0                      Ok lar... Joking wif u oni...\n",
              "2     1  Free entry in 2 a wkly comp to win FA Cup fina...\n",
              "3     0  U dun say so early hor... U c already then say...\n",
              "4     0  Nah I don't think he goes to usf, he lives aro..."
            ],
            "text/html": [
              "\n",
              "  <div id=\"df-091d1e39-2094-42af-9d7e-74b43f688321\">\n",
              "    <div class=\"colab-df-container\">\n",
              "      <div>\n",
              "<style scoped>\n",
              "    .dataframe tbody tr th:only-of-type {\n",
              "        vertical-align: middle;\n",
              "    }\n",
              "\n",
              "    .dataframe tbody tr th {\n",
              "        vertical-align: top;\n",
              "    }\n",
              "\n",
              "    .dataframe thead th {\n",
              "        text-align: right;\n",
              "    }\n",
              "</style>\n",
              "<table border=\"1\" class=\"dataframe\">\n",
              "  <thead>\n",
              "    <tr style=\"text-align: right;\">\n",
              "      <th></th>\n",
              "      <th>label</th>\n",
              "      <th>sms</th>\n",
              "    </tr>\n",
              "  </thead>\n",
              "  <tbody>\n",
              "    <tr>\n",
              "      <th>0</th>\n",
              "      <td>0</td>\n",
              "      <td>Go until jurong point, crazy.. Available only ...</td>\n",
              "    </tr>\n",
              "    <tr>\n",
              "      <th>1</th>\n",
              "      <td>0</td>\n",
              "      <td>Ok lar... Joking wif u oni...</td>\n",
              "    </tr>\n",
              "    <tr>\n",
              "      <th>2</th>\n",
              "      <td>1</td>\n",
              "      <td>Free entry in 2 a wkly comp to win FA Cup fina...</td>\n",
              "    </tr>\n",
              "    <tr>\n",
              "      <th>3</th>\n",
              "      <td>0</td>\n",
              "      <td>U dun say so early hor... U c already then say...</td>\n",
              "    </tr>\n",
              "    <tr>\n",
              "      <th>4</th>\n",
              "      <td>0</td>\n",
              "      <td>Nah I don't think he goes to usf, he lives aro...</td>\n",
              "    </tr>\n",
              "  </tbody>\n",
              "</table>\n",
              "</div>\n",
              "      <button class=\"colab-df-convert\" onclick=\"convertToInteractive('df-091d1e39-2094-42af-9d7e-74b43f688321')\"\n",
              "              title=\"Convert this dataframe to an interactive table.\"\n",
              "              style=\"display:none;\">\n",
              "        \n",
              "  <svg xmlns=\"http://www.w3.org/2000/svg\" height=\"24px\"viewBox=\"0 0 24 24\"\n",
              "       width=\"24px\">\n",
              "    <path d=\"M0 0h24v24H0V0z\" fill=\"none\"/>\n",
              "    <path d=\"M18.56 5.44l.94 2.06.94-2.06 2.06-.94-2.06-.94-.94-2.06-.94 2.06-2.06.94zm-11 1L8.5 8.5l.94-2.06 2.06-.94-2.06-.94L8.5 2.5l-.94 2.06-2.06.94zm10 10l.94 2.06.94-2.06 2.06-.94-2.06-.94-.94-2.06-.94 2.06-2.06.94z\"/><path d=\"M17.41 7.96l-1.37-1.37c-.4-.4-.92-.59-1.43-.59-.52 0-1.04.2-1.43.59L10.3 9.45l-7.72 7.72c-.78.78-.78 2.05 0 2.83L4 21.41c.39.39.9.59 1.41.59.51 0 1.02-.2 1.41-.59l7.78-7.78 2.81-2.81c.8-.78.8-2.07 0-2.86zM5.41 20L4 18.59l7.72-7.72 1.47 1.35L5.41 20z\"/>\n",
              "  </svg>\n",
              "      </button>\n",
              "      \n",
              "  <style>\n",
              "    .colab-df-container {\n",
              "      display:flex;\n",
              "      flex-wrap:wrap;\n",
              "      gap: 12px;\n",
              "    }\n",
              "\n",
              "    .colab-df-convert {\n",
              "      background-color: #E8F0FE;\n",
              "      border: none;\n",
              "      border-radius: 50%;\n",
              "      cursor: pointer;\n",
              "      display: none;\n",
              "      fill: #1967D2;\n",
              "      height: 32px;\n",
              "      padding: 0 0 0 0;\n",
              "      width: 32px;\n",
              "    }\n",
              "\n",
              "    .colab-df-convert:hover {\n",
              "      background-color: #E2EBFA;\n",
              "      box-shadow: 0px 1px 2px rgba(60, 64, 67, 0.3), 0px 1px 3px 1px rgba(60, 64, 67, 0.15);\n",
              "      fill: #174EA6;\n",
              "    }\n",
              "\n",
              "    [theme=dark] .colab-df-convert {\n",
              "      background-color: #3B4455;\n",
              "      fill: #D2E3FC;\n",
              "    }\n",
              "\n",
              "    [theme=dark] .colab-df-convert:hover {\n",
              "      background-color: #434B5C;\n",
              "      box-shadow: 0px 1px 3px 1px rgba(0, 0, 0, 0.15);\n",
              "      filter: drop-shadow(0px 1px 2px rgba(0, 0, 0, 0.3));\n",
              "      fill: #FFFFFF;\n",
              "    }\n",
              "  </style>\n",
              "\n",
              "      <script>\n",
              "        const buttonEl =\n",
              "          document.querySelector('#df-091d1e39-2094-42af-9d7e-74b43f688321 button.colab-df-convert');\n",
              "        buttonEl.style.display =\n",
              "          google.colab.kernel.accessAllowed ? 'block' : 'none';\n",
              "\n",
              "        async function convertToInteractive(key) {\n",
              "          const element = document.querySelector('#df-091d1e39-2094-42af-9d7e-74b43f688321');\n",
              "          const dataTable =\n",
              "            await google.colab.kernel.invokeFunction('convertToInteractive',\n",
              "                                                     [key], {});\n",
              "          if (!dataTable) return;\n",
              "\n",
              "          const docLinkHtml = 'Like what you see? Visit the ' +\n",
              "            '<a target=\"_blank\" href=https://colab.research.google.com/notebooks/data_table.ipynb>data table notebook</a>'\n",
              "            + ' to learn more about interactive tables.';\n",
              "          element.innerHTML = '';\n",
              "          dataTable['output_type'] = 'display_data';\n",
              "          await google.colab.output.renderOutput(dataTable, element);\n",
              "          const docLink = document.createElement('div');\n",
              "          docLink.innerHTML = docLinkHtml;\n",
              "          element.appendChild(docLink);\n",
              "        }\n",
              "      </script>\n",
              "    </div>\n",
              "  </div>\n",
              "  "
            ]
          },
          "metadata": {},
          "execution_count": 5
        }
      ]
    },
    {
      "cell_type": "code",
      "source": [
        "## spliting the data into train, validation, test\n",
        "train, validate, test = np.split(data.sample(frac=1, random_state=42), \n",
        "                       [int(.6*len(data)), int(.8*len(data))])"
      ],
      "metadata": {
        "id": "31vlpOo7RPbL"
      },
      "execution_count": null,
      "outputs": []
    },
    {
      "cell_type": "code",
      "source": [
        "train_file = 'data/train.csv'\n",
        "test_file = 'data/test.csv'\n",
        "valid_file = 'data/valid.csv'"
      ],
      "metadata": {
        "id": "wfh4hTdQSzl1"
      },
      "execution_count": null,
      "outputs": []
    },
    {
      "cell_type": "code",
      "source": [
        "## saving train test and validation file\n",
        "\n",
        "train.to_csv(train_file, index=False)\n",
        "test.to_csv(test_file, index=False)\n",
        "validate.to_csv(valid_file, index=False)"
      ],
      "metadata": {
        "id": "Pv85-efLSZPp"
      },
      "execution_count": null,
      "outputs": []
    },
    {
      "cell_type": "code",
      "source": [
        "## installing dvc\n",
        "! pip install dvc\n",
        "! pip install dvc_gdrive "
      ],
      "metadata": {
        "colab": {
          "base_uri": "https://localhost:8080/"
        },
        "id": "uakWWrC4U0bi",
        "outputId": "108031c6-b496-44ef-fa37-8fdffe296934"
      },
      "execution_count": null,
      "outputs": [
        {
          "output_type": "stream",
          "name": "stdout",
          "text": [
            "Looking in indexes: https://pypi.org/simple, https://us-python.pkg.dev/colab-wheels/public/simple/\n",
            "Collecting dvc\n",
            "  Downloading dvc-2.45.1-py3-none-any.whl (408 kB)\n",
            "\u001b[2K     \u001b[90m━━━━━━━━━━━━━━━━━━━━━━━━━━━━━━━━━━━━━━━\u001b[0m \u001b[32m408.2/408.2 KB\u001b[0m \u001b[31m7.5 MB/s\u001b[0m eta \u001b[36m0:00:00\u001b[0m\n",
            "\u001b[?25hCollecting dvc-task==0.1.11\n",
            "  Downloading dvc_task-0.1.11-py3-none-any.whl (23 kB)\n",
            "Collecting tomlkit>=0.11.1\n",
            "  Downloading tomlkit-0.11.6-py3-none-any.whl (35 kB)\n",
            "Collecting configobj>=5.0.6\n",
            "  Downloading configobj-5.0.8-py2.py3-none-any.whl (36 kB)\n",
            "Collecting zc.lockfile>=1.2.1\n",
            "  Downloading zc.lockfile-3.0-py3-none-any.whl (9.6 kB)\n",
            "Requirement already satisfied: networkx>=2.5 in /usr/local/lib/python3.8/dist-packages (from dvc) (3.0)\n",
            "Collecting grandalf<1,>=0.7\n",
            "  Downloading grandalf-0.8-py3-none-any.whl (41 kB)\n",
            "\u001b[2K     \u001b[90m━━━━━━━━━━━━━━━━━━━━━━━━━━━━━━━━━━━━━━━━\u001b[0m \u001b[32m41.8/41.8 KB\u001b[0m \u001b[31m3.8 MB/s\u001b[0m eta \u001b[36m0:00:00\u001b[0m\n",
            "\u001b[?25hCollecting shortuuid>=0.5.0\n",
            "  Downloading shortuuid-1.0.11-py3-none-any.whl (10 kB)\n",
            "Requirement already satisfied: tabulate>=0.8.7 in /usr/local/lib/python3.8/dist-packages (from dvc) (0.8.10)\n",
            "Collecting pathspec>=0.10.3\n",
            "  Downloading pathspec-0.11.0-py3-none-any.whl (29 kB)\n",
            "Collecting flatten-dict<1,>=0.4.1\n",
            "  Downloading flatten_dict-0.4.2-py2.py3-none-any.whl (9.7 kB)\n",
            "Collecting dvc-studio-client>=0.1.1\n",
            "  Downloading dvc_studio_client-0.5.1-py3-none-any.whl (9.8 kB)\n",
            "Collecting dvclive>=1.2.2\n",
            "  Downloading dvclive-2.1.0-py3-none-any.whl (32 kB)\n",
            "Collecting shtab<2,>=1.3.4\n",
            "  Downloading shtab-1.5.8-py2.py3-none-any.whl (13 kB)\n",
            "Collecting scmrepo==0.1.11\n",
            "  Downloading scmrepo-0.1.11-py3-none-any.whl (48 kB)\n",
            "\u001b[2K     \u001b[90m━━━━━━━━━━━━━━━━━━━━━━━━━━━━━━━━━━━━━━━━\u001b[0m \u001b[32m48.8/48.8 KB\u001b[0m \u001b[31m5.1 MB/s\u001b[0m eta \u001b[36m0:00:00\u001b[0m\n",
            "\u001b[?25hCollecting flufl.lock>=5\n",
            "  Downloading flufl.lock-7.1.1-py3-none-any.whl (11 kB)\n",
            "Collecting dvc-http\n",
            "  Downloading dvc_http-2.30.2-py3-none-any.whl (12 kB)\n",
            "Collecting rich>=12.0.0\n",
            "  Downloading rich-13.3.1-py3-none-any.whl (239 kB)\n",
            "\u001b[2K     \u001b[90m━━━━━━━━━━━━━━━━━━━━━━━━━━━━━━━━━━━━━━\u001b[0m \u001b[32m239.0/239.0 KB\u001b[0m \u001b[31m21.6 MB/s\u001b[0m eta \u001b[36m0:00:00\u001b[0m\n",
            "\u001b[?25hRequirement already satisfied: appdirs>=1.4.3 in /usr/local/lib/python3.8/dist-packages (from dvc) (1.4.4)\n",
            "Requirement already satisfied: importlib-resources>=5.2.2 in /usr/local/lib/python3.8/dist-packages (from dvc) (5.12.0)\n",
            "Collecting ruamel.yaml>=0.17.11\n",
            "  Downloading ruamel.yaml-0.17.21-py3-none-any.whl (109 kB)\n",
            "\u001b[2K     \u001b[90m━━━━━━━━━━━━━━━━━━━━━━━━━━━━━━━━━━━━━━\u001b[0m \u001b[32m109.5/109.5 KB\u001b[0m \u001b[31m11.2 MB/s\u001b[0m eta \u001b[36m0:00:00\u001b[0m\n",
            "\u001b[?25hCollecting psutil>=5.8.0\n",
            "  Downloading psutil-5.9.4-cp36-abi3-manylinux_2_12_x86_64.manylinux2010_x86_64.manylinux_2_17_x86_64.manylinux2014_x86_64.whl (280 kB)\n",
            "\u001b[2K     \u001b[90m━━━━━━━━━━━━━━━━━━━━━━━━━━━━━━━━━━━━━━\u001b[0m \u001b[32m280.2/280.2 KB\u001b[0m \u001b[31m22.7 MB/s\u001b[0m eta \u001b[36m0:00:00\u001b[0m\n",
            "\u001b[?25hRequirement already satisfied: tqdm<5,>=4.63.1 in /usr/local/lib/python3.8/dist-packages (from dvc) (4.64.1)\n",
            "Collecting dvc-render>=0.1.2\n",
            "  Downloading dvc_render-0.2.0-py3-none-any.whl (17 kB)\n",
            "Requirement already satisfied: pydot>=1.2.4 in /usr/local/lib/python3.8/dist-packages (from dvc) (1.3.0)\n",
            "Collecting colorama>=0.3.9\n",
            "  Downloading colorama-0.4.6-py2.py3-none-any.whl (25 kB)\n",
            "Collecting dpath<3,>=2.0.2\n",
            "  Downloading dpath-2.1.4-py3-none-any.whl (17 kB)\n",
            "Collecting hydra-core>=1.1.0\n",
            "  Downloading hydra_core-1.3.2-py3-none-any.whl (154 kB)\n",
            "\u001b[2K     \u001b[90m━━━━━━━━━━━━━━━━━━━━━━━━━━━━━━━━━━━━━━\u001b[0m \u001b[32m154.5/154.5 KB\u001b[0m \u001b[31m16.2 MB/s\u001b[0m eta \u001b[36m0:00:00\u001b[0m\n",
            "\u001b[?25hRequirement already satisfied: pyparsing>=2.4.7 in /usr/local/lib/python3.8/dist-packages (from dvc) (3.0.9)\n",
            "Collecting funcy>=1.14\n",
            "  Downloading funcy-1.18-py2.py3-none-any.whl (33 kB)\n",
            "Collecting dvc-data==0.40.3\n",
            "  Downloading dvc_data-0.40.3-py3-none-any.whl (58 kB)\n",
            "\u001b[2K     \u001b[90m━━━━━━━━━━━━━━━━━━━━━━━━━━━━━━━━━━━━━━━━\u001b[0m \u001b[32m58.4/58.4 KB\u001b[0m \u001b[31m6.0 MB/s\u001b[0m eta \u001b[36m0:00:00\u001b[0m\n",
            "\u001b[?25hRequirement already satisfied: packaging>=19.0 in /usr/local/lib/python3.8/dist-packages (from dvc) (23.0)\n",
            "Collecting voluptuous>=0.11.7\n",
            "  Downloading voluptuous-0.13.1-py3-none-any.whl (29 kB)\n",
            "Collecting distro>=1.3.0\n",
            "  Downloading distro-1.8.0-py3-none-any.whl (20 kB)\n",
            "Requirement already satisfied: requests>=2.22.0 in /usr/local/lib/python3.8/dist-packages (from dvc) (2.25.1)\n",
            "Collecting iterative-telemetry==0.0.7\n",
            "  Downloading iterative_telemetry-0.0.7-py3-none-any.whl (10 kB)\n",
            "Collecting pygtrie>=2.3.2\n",
            "  Downloading pygtrie-2.5.0-py3-none-any.whl (25 kB)\n",
            "Requirement already satisfied: typing-extensions>=3.7.4 in /usr/local/lib/python3.8/dist-packages (from dvc) (4.5.0)\n",
            "Collecting dvc-objects==0.19.3\n",
            "  Downloading dvc_objects-0.19.3-py3-none-any.whl (37 kB)\n",
            "Requirement already satisfied: attrs>=21.3.0 in /usr/local/lib/python3.8/dist-packages (from dvc-data==0.40.3->dvc) (22.2.0)\n",
            "Collecting sqltrie==0.0.28\n",
            "  Downloading sqltrie-0.0.28-py3-none-any.whl (16 kB)\n",
            "Collecting dictdiffer>=0.8.1\n",
            "  Downloading dictdiffer-0.9.0-py2.py3-none-any.whl (16 kB)\n",
            "Collecting diskcache>=5.2.1\n",
            "  Downloading diskcache-5.4.0-py3-none-any.whl (44 kB)\n",
            "\u001b[2K     \u001b[90m━━━━━━━━━━━━━━━━━━━━━━━━━━━━━━━━━━━━━━━━\u001b[0m \u001b[32m45.0/45.0 KB\u001b[0m \u001b[31m5.1 MB/s\u001b[0m eta \u001b[36m0:00:00\u001b[0m\n",
            "\u001b[?25hCollecting nanotime>=0.5.2\n",
            "  Downloading nanotime-0.5.2.tar.gz (3.2 kB)\n",
            "  Preparing metadata (setup.py) ... \u001b[?25l\u001b[?25hdone\n",
            "Collecting kombu<6,>=5.2.0\n",
            "  Downloading kombu-5.2.4-py3-none-any.whl (189 kB)\n",
            "\u001b[2K     \u001b[90m━━━━━━━━━━━━━━━━━━━━━━━━━━━━━━━━━━━━━━\u001b[0m \u001b[32m189.2/189.2 KB\u001b[0m \u001b[31m19.6 MB/s\u001b[0m eta \u001b[36m0:00:00\u001b[0m\n",
            "\u001b[?25hCollecting celery<6,>=5.2.0\n",
            "  Downloading celery-5.2.7-py3-none-any.whl (405 kB)\n",
            "\u001b[2K     \u001b[90m━━━━━━━━━━━━━━━━━━━━━━━━━━━━━━━━━━━━━━\u001b[0m \u001b[32m405.6/405.6 KB\u001b[0m \u001b[31m31.9 MB/s\u001b[0m eta \u001b[36m0:00:00\u001b[0m\n",
            "\u001b[?25hRequirement already satisfied: filelock in /usr/local/lib/python3.8/dist-packages (from iterative-telemetry==0.0.7->dvc) (3.9.0)\n",
            "Collecting dulwich>=0.20.49\n",
            "  Downloading dulwich-0.21.3-cp38-cp38-manylinux_2_17_x86_64.manylinux2014_x86_64.whl (508 kB)\n",
            "\u001b[2K     \u001b[90m━━━━━━━━━━━━━━━━━━━━━━━━━━━━━━━━━━━━━━\u001b[0m \u001b[32m508.7/508.7 KB\u001b[0m \u001b[31m34.8 MB/s\u001b[0m eta \u001b[36m0:00:00\u001b[0m\n",
            "\u001b[?25hCollecting asyncssh<3,>=2.7.1\n",
            "  Downloading asyncssh-2.13.1-py3-none-any.whl (348 kB)\n",
            "\u001b[2K     \u001b[90m━━━━━━━━━━━━━━━━━━━━━━━━━━━━━━━━━━━━━━\u001b[0m \u001b[32m348.5/348.5 KB\u001b[0m \u001b[31m31.6 MB/s\u001b[0m eta \u001b[36m0:00:00\u001b[0m\n",
            "\u001b[?25hCollecting gitpython>3\n",
            "  Downloading GitPython-3.1.31-py3-none-any.whl (184 kB)\n",
            "\u001b[2K     \u001b[90m━━━━━━━━━━━━━━━━━━━━━━━━━━━━━━━━━━━━━━\u001b[0m \u001b[32m184.3/184.3 KB\u001b[0m \u001b[31m19.3 MB/s\u001b[0m eta \u001b[36m0:00:00\u001b[0m\n",
            "\u001b[?25hCollecting pygit2>=1.10.0\n",
            "  Downloading pygit2-1.11.1-cp38-cp38-manylinux_2_24_x86_64.whl (3.7 MB)\n",
            "\u001b[2K     \u001b[90m━━━━━━━━━━━━━━━━━━━━━━━━━━━━━━━━━━━━━━━━\u001b[0m \u001b[32m3.7/3.7 MB\u001b[0m \u001b[31m51.1 MB/s\u001b[0m eta \u001b[36m0:00:00\u001b[0m\n",
            "\u001b[?25hRequirement already satisfied: fsspec>=2021.7.0 in /usr/local/lib/python3.8/dist-packages (from scmrepo==0.1.11->dvc) (2023.1.0)\n",
            "Collecting orjson\n",
            "  Downloading orjson-3.8.6-cp38-cp38-manylinux_2_28_x86_64.whl (140 kB)\n",
            "\u001b[2K     \u001b[90m━━━━━━━━━━━━━━━━━━━━━━━━━━━━━━━━━━━━━━\u001b[0m \u001b[32m140.7/140.7 KB\u001b[0m \u001b[31m16.4 MB/s\u001b[0m eta \u001b[36m0:00:00\u001b[0m\n",
            "\u001b[?25hRequirement already satisfied: six in /usr/local/lib/python3.8/dist-packages (from configobj>=5.0.6->dvc) (1.15.0)\n",
            "Collecting atpublic>=2.3\n",
            "  Downloading atpublic-3.1.1-py3-none-any.whl (4.8 kB)\n",
            "Collecting antlr4-python3-runtime==4.9.*\n",
            "  Downloading antlr4-python3-runtime-4.9.3.tar.gz (117 kB)\n",
            "\u001b[2K     \u001b[90m━━━━━━━━━━━━━━━━━━━━━━━━━━━━━━━━━━━━━━\u001b[0m \u001b[32m117.0/117.0 KB\u001b[0m \u001b[31m13.9 MB/s\u001b[0m eta \u001b[36m0:00:00\u001b[0m\n",
            "\u001b[?25h  Preparing metadata (setup.py) ... \u001b[?25l\u001b[?25hdone\n",
            "Collecting omegaconf<2.4,>=2.2\n",
            "  Downloading omegaconf-2.3.0-py3-none-any.whl (79 kB)\n",
            "\u001b[2K     \u001b[90m━━━━━━━━━━━━━━━━━━━━━━━━━━━━━━━━━━━━━━━━\u001b[0m \u001b[32m79.5/79.5 KB\u001b[0m \u001b[31m9.3 MB/s\u001b[0m eta \u001b[36m0:00:00\u001b[0m\n",
            "\u001b[?25hRequirement already satisfied: zipp>=3.1.0 in /usr/local/lib/python3.8/dist-packages (from importlib-resources>=5.2.2->dvc) (3.14.0)\n",
            "Requirement already satisfied: certifi>=2017.4.17 in /usr/local/lib/python3.8/dist-packages (from requests>=2.22.0->dvc) (2022.12.7)\n",
            "Requirement already satisfied: idna<3,>=2.5 in /usr/local/lib/python3.8/dist-packages (from requests>=2.22.0->dvc) (2.10)\n",
            "Requirement already satisfied: urllib3<1.27,>=1.21.1 in /usr/local/lib/python3.8/dist-packages (from requests>=2.22.0->dvc) (1.24.3)\n",
            "Requirement already satisfied: chardet<5,>=3.0.2 in /usr/local/lib/python3.8/dist-packages (from requests>=2.22.0->dvc) (4.0.0)\n",
            "Collecting pygments<3.0.0,>=2.14.0\n",
            "  Downloading Pygments-2.14.0-py3-none-any.whl (1.1 MB)\n",
            "\u001b[2K     \u001b[90m━━━━━━━━━━━━━━━━━━━━━━━━━━━━━━━━━━━━━━━━\u001b[0m \u001b[32m1.1/1.1 MB\u001b[0m \u001b[31m49.5 MB/s\u001b[0m eta \u001b[36m0:00:00\u001b[0m\n",
            "\u001b[?25hCollecting markdown-it-py<3.0.0,>=2.1.0\n",
            "  Downloading markdown_it_py-2.2.0-py3-none-any.whl (84 kB)\n",
            "\u001b[2K     \u001b[90m━━━━━━━━━━━━━━━━━━━━━━━━━━━━━━━━━━━━━━━━\u001b[0m \u001b[32m84.5/84.5 KB\u001b[0m \u001b[31m9.8 MB/s\u001b[0m eta \u001b[36m0:00:00\u001b[0m\n",
            "\u001b[?25hCollecting ruamel.yaml.clib>=0.2.6\n",
            "  Downloading ruamel.yaml.clib-0.2.7-cp38-cp38-manylinux_2_17_x86_64.manylinux2014_x86_64.manylinux_2_24_x86_64.whl (555 kB)\n",
            "\u001b[2K     \u001b[90m━━━━━━━━━━━━━━━━━━━━━━━━━━━━━━━━━━━━━━\u001b[0m \u001b[32m555.3/555.3 KB\u001b[0m \u001b[31m43.8 MB/s\u001b[0m eta \u001b[36m0:00:00\u001b[0m\n",
            "\u001b[?25hRequirement already satisfied: setuptools in /usr/local/lib/python3.8/dist-packages (from zc.lockfile>=1.2.1->dvc) (57.4.0)\n",
            "Collecting aiohttp-retry>=2.5.0\n",
            "  Downloading aiohttp_retry-2.8.3-py3-none-any.whl (9.8 kB)\n",
            "Requirement already satisfied: aiohttp in /usr/local/lib/python3.8/dist-packages (from aiohttp-retry>=2.5.0->dvc-http->dvc) (3.8.4)\n",
            "Collecting cryptography>=3.1\n",
            "  Downloading cryptography-39.0.1-cp36-abi3-manylinux_2_28_x86_64.whl (4.2 MB)\n",
            "\u001b[2K     \u001b[90m━━━━━━━━━━━━━━━━━━━━━━━━━━━━━━━━━━━━━━━━\u001b[0m \u001b[32m4.2/4.2 MB\u001b[0m \u001b[31m63.0 MB/s\u001b[0m eta \u001b[36m0:00:00\u001b[0m\n",
            "\u001b[?25hCollecting vine<6.0,>=5.0.0\n",
            "  Downloading vine-5.0.0-py2.py3-none-any.whl (9.4 kB)\n",
            "Collecting click<9.0,>=8.0.3\n",
            "  Downloading click-8.1.3-py3-none-any.whl (96 kB)\n",
            "\u001b[2K     \u001b[90m━━━━━━━━━━━━━━━━━━━━━━━━━━━━━━━━━━━━━━━━\u001b[0m \u001b[32m96.6/96.6 KB\u001b[0m \u001b[31m11.9 MB/s\u001b[0m eta \u001b[36m0:00:00\u001b[0m\n",
            "\u001b[?25hCollecting billiard<4.0,>=3.6.4.0\n",
            "  Downloading billiard-3.6.4.0-py3-none-any.whl (89 kB)\n",
            "\u001b[2K     \u001b[90m━━━━━━━━━━━━━━━━━━━━━━━━━━━━━━━━━━━━━━━━\u001b[0m \u001b[32m89.5/89.5 KB\u001b[0m \u001b[31m10.5 MB/s\u001b[0m eta \u001b[36m0:00:00\u001b[0m\n",
            "\u001b[?25hRequirement already satisfied: pytz>=2021.3 in /usr/local/lib/python3.8/dist-packages (from celery<6,>=5.2.0->dvc-task==0.1.11->dvc) (2022.7.1)\n",
            "Collecting click-didyoumean>=0.0.3\n",
            "  Downloading click_didyoumean-0.3.0-py3-none-any.whl (2.7 kB)\n",
            "Collecting click-repl>=0.2.0\n",
            "  Downloading click_repl-0.2.0-py3-none-any.whl (5.2 kB)\n",
            "Collecting click-plugins>=1.1.1\n",
            "  Downloading click_plugins-1.1.1-py2.py3-none-any.whl (7.5 kB)\n",
            "Collecting urllib3<1.27,>=1.21.1\n",
            "  Downloading urllib3-1.26.14-py2.py3-none-any.whl (140 kB)\n",
            "\u001b[2K     \u001b[90m━━━━━━━━━━━━━━━━━━━━━━━━━━━━━━━━━━━━━━\u001b[0m \u001b[32m140.6/140.6 KB\u001b[0m \u001b[31m15.5 MB/s\u001b[0m eta \u001b[36m0:00:00\u001b[0m\n",
            "\u001b[?25hCollecting gitdb<5,>=4.0.1\n",
            "  Downloading gitdb-4.0.10-py3-none-any.whl (62 kB)\n",
            "\u001b[2K     \u001b[90m━━━━━━━━━━━━━━━━━━━━━━━━━━━━━━━━━━━━━━━━\u001b[0m \u001b[32m62.7/62.7 KB\u001b[0m \u001b[31m7.4 MB/s\u001b[0m eta \u001b[36m0:00:00\u001b[0m\n",
            "\u001b[?25hCollecting amqp<6.0.0,>=5.0.9\n",
            "  Downloading amqp-5.1.1-py3-none-any.whl (50 kB)\n",
            "\u001b[2K     \u001b[90m━━━━━━━━━━━━━━━━━━━━━━━━━━━━━━━━━━━━━━━━\u001b[0m \u001b[32m50.8/50.8 KB\u001b[0m \u001b[31m5.1 MB/s\u001b[0m eta \u001b[36m0:00:00\u001b[0m\n",
            "\u001b[?25hCollecting mdurl~=0.1\n",
            "  Downloading mdurl-0.1.2-py3-none-any.whl (10.0 kB)\n",
            "Requirement already satisfied: PyYAML>=5.1.0 in /usr/local/lib/python3.8/dist-packages (from omegaconf<2.4,>=2.2->hydra-core>=1.1.0->dvc) (6.0)\n",
            "Requirement already satisfied: cffi>=1.9.1 in /usr/local/lib/python3.8/dist-packages (from pygit2>=1.10.0->scmrepo==0.1.11->dvc) (1.15.1)\n",
            "Requirement already satisfied: aiosignal>=1.1.2 in /usr/local/lib/python3.8/dist-packages (from aiohttp->aiohttp-retry>=2.5.0->dvc-http->dvc) (1.3.1)\n",
            "Requirement already satisfied: frozenlist>=1.1.1 in /usr/local/lib/python3.8/dist-packages (from aiohttp->aiohttp-retry>=2.5.0->dvc-http->dvc) (1.3.3)\n",
            "Requirement already satisfied: async-timeout<5.0,>=4.0.0a3 in /usr/local/lib/python3.8/dist-packages (from aiohttp->aiohttp-retry>=2.5.0->dvc-http->dvc) (4.0.2)\n",
            "Requirement already satisfied: multidict<7.0,>=4.5 in /usr/local/lib/python3.8/dist-packages (from aiohttp->aiohttp-retry>=2.5.0->dvc-http->dvc) (6.0.4)\n",
            "Requirement already satisfied: yarl<2.0,>=1.0 in /usr/local/lib/python3.8/dist-packages (from aiohttp->aiohttp-retry>=2.5.0->dvc-http->dvc) (1.8.2)\n",
            "Requirement already satisfied: charset-normalizer<4.0,>=2.0 in /usr/local/lib/python3.8/dist-packages (from aiohttp->aiohttp-retry>=2.5.0->dvc-http->dvc) (3.0.1)\n",
            "Requirement already satisfied: pycparser in /usr/local/lib/python3.8/dist-packages (from cffi>=1.9.1->pygit2>=1.10.0->scmrepo==0.1.11->dvc) (2.21)\n",
            "Requirement already satisfied: prompt-toolkit in /usr/local/lib/python3.8/dist-packages (from click-repl>=0.2.0->celery<6,>=5.2.0->dvc-task==0.1.11->dvc) (2.0.10)\n",
            "Collecting smmap<6,>=3.0.1\n",
            "  Downloading smmap-5.0.0-py3-none-any.whl (24 kB)\n",
            "Requirement already satisfied: wcwidth in /usr/local/lib/python3.8/dist-packages (from prompt-toolkit->click-repl>=0.2.0->celery<6,>=5.2.0->dvc-task==0.1.11->dvc) (0.2.6)\n",
            "Building wheels for collected packages: antlr4-python3-runtime, nanotime\n",
            "  Building wheel for antlr4-python3-runtime (setup.py) ... \u001b[?25l\u001b[?25hdone\n",
            "  Created wheel for antlr4-python3-runtime: filename=antlr4_python3_runtime-4.9.3-py3-none-any.whl size=144575 sha256=75a91dfcf30b7b0a0a65ad8ebd5f1f1f1d48e64a09894767393efab110659bb4\n",
            "  Stored in directory: /root/.cache/pip/wheels/b1/a3/c2/6df046c09459b73cc9bb6c4401b0be6c47048baf9a1617c485\n",
            "  Building wheel for nanotime (setup.py) ... \u001b[?25l\u001b[?25hdone\n",
            "  Created wheel for nanotime: filename=nanotime-0.5.2-py3-none-any.whl size=2440 sha256=c146e693eec35677f39439251b87d0d335fe26df576a7e7d879e1bb7ed4898b2\n",
            "  Stored in directory: /root/.cache/pip/wheels/59/72/23/ea2daa0727a9f7824c0656b73c1f3d8d13f5327729eadb7084\n",
            "Successfully built antlr4-python3-runtime nanotime\n",
            "Installing collected packages: voluptuous, pygtrie, nanotime, funcy, dictdiffer, billiard, antlr4-python3-runtime, zc.lockfile, vine, urllib3, tomlkit, smmap, shtab, shortuuid, ruamel.yaml.clib, pygments, psutil, pathspec, orjson, omegaconf, mdurl, grandalf, flatten-dict, dvc-render, dpath, distro, diskcache, configobj, colorama, click, atpublic, sqltrie, ruamel.yaml, pygit2, markdown-it-py, hydra-core, gitdb, flufl.lock, dvc-objects, dulwich, cryptography, click-repl, click-plugins, click-didyoumean, amqp, rich, kombu, iterative-telemetry, gitpython, dvc-data, asyncssh, aiohttp-retry, scmrepo, dvc-studio-client, dvc-http, celery, dvclive, dvc-task, dvc\n",
            "  Attempting uninstall: urllib3\n",
            "    Found existing installation: urllib3 1.24.3\n",
            "    Uninstalling urllib3-1.24.3:\n",
            "      Successfully uninstalled urllib3-1.24.3\n",
            "  Attempting uninstall: pygments\n",
            "    Found existing installation: Pygments 2.6.1\n",
            "    Uninstalling Pygments-2.6.1:\n",
            "      Successfully uninstalled Pygments-2.6.1\n",
            "  Attempting uninstall: psutil\n",
            "    Found existing installation: psutil 5.4.8\n",
            "    Uninstalling psutil-5.4.8:\n",
            "      Successfully uninstalled psutil-5.4.8\n",
            "  Attempting uninstall: click\n",
            "    Found existing installation: click 7.1.2\n",
            "    Uninstalling click-7.1.2:\n",
            "      Successfully uninstalled click-7.1.2\n",
            "\u001b[31mERROR: pip's dependency resolver does not currently take into account all the packages that are installed. This behaviour is the source of the following dependency conflicts.\n",
            "ipython 7.9.0 requires jedi>=0.10, which is not installed.\n",
            "flask 1.1.4 requires click<8.0,>=5.1, but you have click 8.1.3 which is incompatible.\u001b[0m\u001b[31m\n",
            "\u001b[0mSuccessfully installed aiohttp-retry-2.8.3 amqp-5.1.1 antlr4-python3-runtime-4.9.3 asyncssh-2.13.1 atpublic-3.1.1 billiard-3.6.4.0 celery-5.2.7 click-8.1.3 click-didyoumean-0.3.0 click-plugins-1.1.1 click-repl-0.2.0 colorama-0.4.6 configobj-5.0.8 cryptography-39.0.1 dictdiffer-0.9.0 diskcache-5.4.0 distro-1.8.0 dpath-2.1.4 dulwich-0.21.3 dvc-2.45.1 dvc-data-0.40.3 dvc-http-2.30.2 dvc-objects-0.19.3 dvc-render-0.2.0 dvc-studio-client-0.5.1 dvc-task-0.1.11 dvclive-2.1.0 flatten-dict-0.4.2 flufl.lock-7.1.1 funcy-1.18 gitdb-4.0.10 gitpython-3.1.31 grandalf-0.8 hydra-core-1.3.2 iterative-telemetry-0.0.7 kombu-5.2.4 markdown-it-py-2.2.0 mdurl-0.1.2 nanotime-0.5.2 omegaconf-2.3.0 orjson-3.8.6 pathspec-0.11.0 psutil-5.9.4 pygit2-1.11.1 pygments-2.14.0 pygtrie-2.5.0 rich-13.3.1 ruamel.yaml-0.17.21 ruamel.yaml.clib-0.2.7 scmrepo-0.1.11 shortuuid-1.0.11 shtab-1.5.8 smmap-5.0.0 sqltrie-0.0.28 tomlkit-0.11.6 urllib3-1.26.14 vine-5.0.0 voluptuous-0.13.1 zc.lockfile-3.0\n"
          ]
        }
      ]
    },
    {
      "cell_type": "code",
      "source": [
        "! git init\n",
        "! dvc init"
      ],
      "metadata": {
        "colab": {
          "base_uri": "https://localhost:8080/"
        },
        "id": "lGjKwNVwVGsK",
        "outputId": "96116ad0-9249-4c5f-f7c1-fec53635f8f2"
      },
      "execution_count": null,
      "outputs": [
        {
          "output_type": "stream",
          "name": "stdout",
          "text": [
            "Initialized empty Git repository in /content/.git/\n",
            "Initialized DVC repository.\n",
            "\n",
            "You can now commit the changes to git.\n",
            "\n",
            "\u001b[31m+---------------------------------------------------------------------+\n",
            "\u001b[0m\u001b[31m|\u001b[0m                                                                     \u001b[31m|\u001b[0m\n",
            "\u001b[31m|\u001b[0m        DVC has enabled anonymous aggregate usage analytics.         \u001b[31m|\u001b[0m\n",
            "\u001b[31m|\u001b[0m     Read the analytics documentation (and how to opt-out) here:     \u001b[31m|\u001b[0m\n",
            "\u001b[31m|\u001b[0m             <\u001b[36mhttps://dvc.org/doc/user-guide/analytics\u001b[39m>              \u001b[31m|\u001b[0m\n",
            "\u001b[31m|\u001b[0m                                                                     \u001b[31m|\u001b[0m\n",
            "\u001b[31m+---------------------------------------------------------------------+\n",
            "\u001b[0m\n",
            "\u001b[33mWhat's next?\u001b[39m\n",
            "\u001b[33m------------\u001b[39m\n",
            "- Check out the documentation: <\u001b[36mhttps://dvc.org/doc\u001b[39m>\n",
            "- Get help and share ideas: <\u001b[36mhttps://dvc.org/chat\u001b[39m>\n",
            "- Star us on GitHub: <\u001b[36mhttps://github.com/iterative/dvc\u001b[39m>\n",
            "\u001b[0m"
          ]
        }
      ]
    },
    {
      "cell_type": "code",
      "source": [
        "! ls data"
      ],
      "metadata": {
        "colab": {
          "base_uri": "https://localhost:8080/"
        },
        "id": "6nLEPXYKVWP6",
        "outputId": "b8d6c3d5-c358-4b15-da80-d187aa79f5e2"
      },
      "execution_count": null,
      "outputs": [
        {
          "output_type": "stream",
          "name": "stdout",
          "text": [
            "test.csv  train.csv  valid.csv\n"
          ]
        }
      ]
    },
    {
      "cell_type": "code",
      "source": [
        "! dvc add data"
      ],
      "metadata": {
        "colab": {
          "base_uri": "https://localhost:8080/"
        },
        "id": "rD6ucyGSVZ-K",
        "outputId": "ba9555cc-5911-437c-96b1-f4d795d21ab0"
      },
      "execution_count": null,
      "outputs": [
        {
          "output_type": "stream",
          "name": "stdout",
          "text": [
            "\u001b[2K\u001b[32m⠴\u001b[0m Checking graph\n",
            "Adding...:   0% 0/1 [00:00<?, ?file/s{'info': ''}]\n",
            "!\u001b[A\n",
            "Building data objects from data          |0.00 [00:00,      ?obj/s]\u001b[A\n",
            "                                                                   \u001b[A\n",
            "!\u001b[A\n",
            "Building data objects from data          |0.00 [00:00,      ?obj/s]\u001b[A\n",
            "                                                                   \u001b[A\n",
            "!\u001b[A\n",
            "  0% |          |0/? [00:00<?,    ?files/s]\u001b[A\n",
            "                                           \u001b[A\n",
            "!\u001b[A\n",
            "  0%|          |Transferring                          0/? [00:00<?,     ?file/s]\u001b[A\n",
            "Transferring:   0% 0/3 [00:00<?, ?file/s{'info': ''}]                           \u001b[A\n",
            "  0%|          |Transferring                     3/? [00:00<00:00, 309.44file/s]\u001b[A\n",
            "\n",
            "!\u001b[A\u001b[A\n",
            "\n",
            "  0%|          |memory://.MRtC85NujM9vVo2NuT5JNS.tm0.00/? [00:00<?,        ?B/s]\u001b[A\u001b[A\n",
            "\n",
            "memory://.MRtC85NujM9vVo2NuT5JNS.tmp:   0% 0.00/206 [00:00<?, ?B/s{'info': ''}] \u001b[A\u001b[A\n",
            "\n",
            "                                                                               \u001b[A\u001b[A\n",
            "                                                                                \u001b[A\n",
            "!\u001b[A\n",
            "Building data objects from data          |0.00 [00:00,      ?obj/s]\u001b[A\n",
            "Adding...: 100% 1/1 [00:00<00:00,  5.38file/s{'info': ''}]\n",
            "\n",
            "To track the changes with git, run:\n",
            "\n",
            "\tgit add .gitignore data.dvc\n",
            "\n",
            "To enable auto staging, run:\n",
            "\n",
            "\tdvc config core.autostage true\n",
            "\u001b[0m"
          ]
        }
      ]
    },
    {
      "cell_type": "code",
      "source": [
        "! git add data.dvc"
      ],
      "metadata": {
        "id": "qOqXZqZqVhG5"
      },
      "execution_count": null,
      "outputs": []
    },
    {
      "cell_type": "code",
      "source": [
        "## configuring git\n",
        "! git config --global user.email \"ved4589@gmail.com\"\n",
        "! git config --global user.name \"ved Prakash\""
      ],
      "metadata": {
        "id": "aBcnVIMbV794"
      },
      "execution_count": null,
      "outputs": []
    },
    {
      "cell_type": "code",
      "source": [
        "! git add .gitignore\n",
        "! git commit -m 'start tracking data'"
      ],
      "metadata": {
        "colab": {
          "base_uri": "https://localhost:8080/"
        },
        "id": "-hxlGbZgVqqh",
        "outputId": "375ba532-fd61-4b5c-cb9e-99db16ae826f"
      },
      "execution_count": null,
      "outputs": [
        {
          "output_type": "stream",
          "name": "stdout",
          "text": [
            "[master (root-commit) 10afbdd] start tracking data\n",
            " 5 files changed, 12 insertions(+)\n",
            " create mode 100644 .dvc/.gitignore\n",
            " create mode 100644 .dvc/config\n",
            " create mode 100644 .dvcignore\n",
            " create mode 100644 .gitignore\n",
            " create mode 100644 data.dvc\n"
          ]
        }
      ]
    },
    {
      "cell_type": "code",
      "source": [
        "! dvc checkout"
      ],
      "metadata": {
        "colab": {
          "base_uri": "https://localhost:8080/"
        },
        "id": "Tcl2XW_7VwSx",
        "outputId": "10f3ef8b-2bb3-43e3-f288-db4b7638a0b1"
      },
      "execution_count": null,
      "outputs": [
        {
          "output_type": "stream",
          "name": "stdout",
          "text": [
            "\r!\rIf DVC froze, see `hardlink_lock` in <\u001b[36mhttps://man.dvc.org/config#core\u001b[39m>\r                                                                      \r\r!\r  0% Checkout|          |0/? [00:00<?,     ?file/s]\rCheckout:   0% 0/3 [00:00<?, ?file/s{'info': ''}]  \n",
            "\r!\u001b[A\n",
            "\rBuilding data objects from data          |0.00 [00:00,      ?obj/s]\u001b[A\n",
            "\r                                                                   \u001b[A\r                                                 \r\u001b[0m"
          ]
        }
      ]
    },
    {
      "cell_type": "code",
      "source": [
        "! git log"
      ],
      "metadata": {
        "colab": {
          "base_uri": "https://localhost:8080/"
        },
        "id": "SDUG1dWWWXHK",
        "outputId": "c844de5c-b6ae-4b7d-c327-848908f39989"
      },
      "execution_count": null,
      "outputs": [
        {
          "output_type": "stream",
          "name": "stdout",
          "text": [
            "\u001b[33mcommit 10afbddcc7016c34b59f14b2b18774f24b908b03\u001b[m\u001b[33m (\u001b[m\u001b[1;36mHEAD -> \u001b[m\u001b[1;32mmaster\u001b[m\u001b[33m)\u001b[m\n",
            "Author: ved Prakash <ved4589@gmail.com>\n",
            "Date:   Sun Feb 26 18:44:45 2023 +0000\n",
            "\n",
            "    start tracking data\n"
          ]
        }
      ]
    },
    {
      "cell_type": "code",
      "source": [
        "## adding gdrive as storage\n",
        "# ! dvc remote add -d storage gdrive://1z8GiPuqnLPj9eCmo5ab9_9cEk3ADxfbY\n"
      ],
      "metadata": {
        "colab": {
          "base_uri": "https://localhost:8080/"
        },
        "id": "DpEL0uZmDXlf",
        "outputId": "d5f23d2a-cdc2-4aef-f3d1-9a99a644e0e0"
      },
      "execution_count": null,
      "outputs": [
        {
          "output_type": "stream",
          "name": "stdout",
          "text": [
            "Setting 'storage' as a default remote.\n",
            "\u001b[0m"
          ]
        }
      ]
    },
    {
      "cell_type": "code",
      "source": [
        "# ! dvc push"
      ],
      "metadata": {
        "id": "Z_7mKrHjEebv"
      },
      "execution_count": null,
      "outputs": []
    },
    {
      "cell_type": "markdown",
      "source": [
        "**Checking the profile of data before changing seed**"
      ],
      "metadata": {
        "id": "A2iUvknw3SPY"
      }
    },
    {
      "cell_type": "code",
      "source": [
        "## checking the data profile before update\n",
        "print(\"Train set - number of 0s:\", sum(train['label'] == 0), \"number of 1s:\", sum(train['label'] == 1))\n",
        "print(\"Validation set - number of 0s:\", sum(validate['label'] == 0), \"number of 1s:\", sum(validate['label'] == 1))\n",
        "print(\"Test set - number of 0s:\", sum(test['label'] == 0), \"number of 1s:\", sum(test['label'] == 1))"
      ],
      "metadata": {
        "colab": {
          "base_uri": "https://localhost:8080/"
        },
        "id": "V9qBxZHfWbwK",
        "outputId": "10d9a310-4ba4-496b-c782-c5096821c95d"
      },
      "execution_count": null,
      "outputs": [
        {
          "output_type": "stream",
          "name": "stdout",
          "text": [
            "Train set - number of 0s: 2898 number of 1s: 445\n",
            "Validation set - number of 0s: 966 number of 1s: 148\n",
            "Test set - number of 0s: 961 number of 1s: 154\n"
          ]
        }
      ]
    },
    {
      "cell_type": "code",
      "source": [
        "## change the random seed to 100\n",
        "\n",
        "train, validate, test = np.split(data.sample(frac=1, random_state=100), \n",
        "                       [int(.6*len(data)), int(.8*len(data))])\n"
      ],
      "metadata": {
        "id": "wy0H0207bgUR"
      },
      "execution_count": null,
      "outputs": []
    },
    {
      "cell_type": "code",
      "source": [
        "## saving train test and validation file\n",
        "\n",
        "train.to_csv(train_file, index=False)\n",
        "test.to_csv(test_file, index=False)\n",
        "validate.to_csv(valid_file, index=False)"
      ],
      "metadata": {
        "id": "zmngywMvc3MB"
      },
      "execution_count": null,
      "outputs": []
    },
    {
      "cell_type": "code",
      "source": [
        "## commit the change\n",
        "! dvc add data\n",
        "! git add data.dvc\n",
        "! git commit -m 'changed random seed from 42 to 100'\n"
      ],
      "metadata": {
        "colab": {
          "base_uri": "https://localhost:8080/"
        },
        "id": "5QiEqr7Lc8FQ",
        "outputId": "2de7a21f-b756-4af8-d70f-bbb2d0fa5470"
      },
      "execution_count": null,
      "outputs": [
        {
          "output_type": "stream",
          "name": "stdout",
          "text": [
            "\u001b[2K\u001b[32m⠋\u001b[0m Checking graph\n",
            "Adding...:   0% 0/1 [00:00<?, ?file/s{'info': ''}]\n",
            "!\u001b[A\n",
            "Building data objects from data          |0.00 [00:00,      ?obj/s]\u001b[A\n",
            "                                                                   \u001b[A\n",
            "!\u001b[A\n",
            "Building data objects from data          |0.00 [00:00,      ?obj/s]\u001b[A\n",
            "                                                                   \u001b[A\n",
            "!\u001b[A\n",
            "  0% |          |0/? [00:00<?,    ?files/s]\u001b[A\n",
            "                                           \u001b[A\n",
            "!\u001b[A\n",
            "  0%|          |Transferring                          0/? [00:00<?,     ?file/s]\u001b[A\n",
            "Transferring:   0% 0/3 [00:00<?, ?file/s{'info': ''}]                           \u001b[A\n",
            "  0%|          |Transferring                    3/? [00:00<00:00, 1281.88file/s]\u001b[A\n",
            "\n",
            "!\u001b[A\u001b[A\n",
            "\n",
            "  0%|          |memory://.Fjw9gqLY233XeTsGc6zK6g.tm0.00/? [00:00<?,        ?B/s]\u001b[A\u001b[A\n",
            "\n",
            "memory://.Fjw9gqLY233XeTsGc6zK6g.tmp:   0% 0.00/206 [00:00<?, ?B/s{'info': ''}] \u001b[A\u001b[A\n",
            "\n",
            "                                                                               \u001b[A\u001b[A\n",
            "                                                                                \u001b[A\n",
            "!\u001b[A\n",
            "Building data objects from data          |0.00 [00:00,      ?obj/s]\u001b[A\n",
            "Adding...: 100% 1/1 [00:00<00:00, 14.04file/s{'info': ''}]\n",
            "\n",
            "To track the changes with git, run:\n",
            "\n",
            "\tgit add data.dvc\n",
            "\n",
            "To enable auto staging, run:\n",
            "\n",
            "\tdvc config core.autostage true\n",
            "\u001b[0m[master a98e90f] changed random seed from 42 to 100\n",
            " 1 file changed, 1 insertion(+), 1 deletion(-)\n"
          ]
        }
      ]
    },
    {
      "cell_type": "markdown",
      "source": [
        "**profile of data with seed 100**"
      ],
      "metadata": {
        "id": "acq_ju5O3iNL"
      }
    },
    {
      "cell_type": "code",
      "source": [
        "## check the data profile with seed 100\n",
        "\n",
        "print(\"Train set - number of 0s:\", sum(train['label'] == 0), \"number of 1s:\", sum(train['label'] == 1))\n",
        "print(\"Validation set - number of 0s:\", sum(validate['label'] == 0), \"number of 1s:\", sum(validate['label'] == 1))\n",
        "print(\"Test set - number of 0s:\", sum(test['label'] == 0), \"number of 1s:\", sum(test['label'] == 1))"
      ],
      "metadata": {
        "colab": {
          "base_uri": "https://localhost:8080/"
        },
        "id": "AJXZ8xeGdYXv",
        "outputId": "8664da3e-1de3-48cf-bee6-e1700eec20bb"
      },
      "execution_count": null,
      "outputs": [
        {
          "output_type": "stream",
          "name": "stdout",
          "text": [
            "Train set - number of 0s: 2894 number of 1s: 449\n",
            "Validation set - number of 0s: 961 number of 1s: 153\n",
            "Test set - number of 0s: 970 number of 1s: 145\n"
          ]
        }
      ]
    },
    {
      "cell_type": "code",
      "source": [],
      "metadata": {
        "id": "QFfx6nakFFNL"
      },
      "execution_count": null,
      "outputs": []
    },
    {
      "cell_type": "code",
      "source": [
        "# ! dvc push"
      ],
      "metadata": {
        "id": "t8sk8L9Md7XQ"
      },
      "execution_count": null,
      "outputs": []
    },
    {
      "cell_type": "code",
      "source": [
        "! git log"
      ],
      "metadata": {
        "colab": {
          "base_uri": "https://localhost:8080/"
        },
        "id": "78cT_hkfeqe5",
        "outputId": "1d76dff5-4315-4cdb-a254-109ca4d6005e"
      },
      "execution_count": null,
      "outputs": [
        {
          "output_type": "stream",
          "name": "stdout",
          "text": [
            "\u001b[33mcommit acc865249c71c271a871b9103def8244364423cc\u001b[m\u001b[33m (\u001b[m\u001b[1;36mHEAD -> \u001b[m\u001b[1;32mmaster\u001b[m\u001b[33m)\u001b[m\n",
            "Author: ved Prakash <ved4589@gmail.com>\n",
            "Date:   Fri Feb 24 08:06:28 2023 +0000\n",
            "\n",
            "    changed random seed from 42 to 100\n",
            "\n",
            "\u001b[33mcommit f53044eedc69ddc284abf9be22ddf53b5c5655fb\u001b[m\n",
            "Author: ved Prakash <ved4589@gmail.com>\n",
            "Date:   Fri Feb 24 07:56:25 2023 +0000\n",
            "\n",
            "    start tracking data\n"
          ]
        }
      ]
    },
    {
      "cell_type": "code",
      "source": [
        "! git status"
      ],
      "metadata": {
        "colab": {
          "base_uri": "https://localhost:8080/"
        },
        "id": "UaQYp6Y1fEgx",
        "outputId": "732bfa92-617a-4b32-d50f-3fca45b630a1"
      },
      "execution_count": null,
      "outputs": [
        {
          "output_type": "stream",
          "name": "stdout",
          "text": [
            "On branch master\n",
            "Changes not staged for commit:\n",
            "  (use \"git add <file>...\" to update what will be committed)\n",
            "  (use \"git restore <file>...\" to discard changes in working directory)\n",
            "\t\u001b[31mmodified:   .dvc/config\u001b[m\n",
            "\n",
            "Untracked files:\n",
            "  (use \"git add <file>...\" to include in what will be committed)\n",
            "\t\u001b[31m.config/\u001b[m\n",
            "\t\u001b[31mSMSSpamCollection\u001b[m\n",
            "\t\u001b[31msample_data/\u001b[m\n",
            "\n",
            "no changes added to commit (use \"git add\" and/or \"git commit -a\")\n"
          ]
        }
      ]
    },
    {
      "cell_type": "markdown",
      "source": [
        "**getting previous version of data**"
      ],
      "metadata": {
        "id": "_r0Xhe9t3pNi"
      }
    },
    {
      "cell_type": "code",
      "source": [
        "##  printing previous data version\n",
        "! git checkout HEAD^ data.dvc"
      ],
      "metadata": {
        "colab": {
          "base_uri": "https://localhost:8080/"
        },
        "id": "IVNYOfoZfKb4",
        "outputId": "846a065a-5d70-437a-d6d9-3db72ac62b7c"
      },
      "execution_count": null,
      "outputs": [
        {
          "output_type": "stream",
          "name": "stdout",
          "text": [
            "Updated 1 path from 012facc\n"
          ]
        }
      ]
    },
    {
      "cell_type": "code",
      "source": [
        "! dvc pull data.dvc"
      ],
      "metadata": {
        "colab": {
          "base_uri": "https://localhost:8080/"
        },
        "id": "a6bqBPnthGrP",
        "outputId": "319d9010-9042-401e-c5ca-2155322d9b20"
      },
      "execution_count": null,
      "outputs": [
        {
          "output_type": "stream",
          "name": "stdout",
          "text": [
            "\r!\rIf DVC froze, see `hardlink_lock` in <\u001b[36mhttps://man.dvc.org/config#core\u001b[39m>\r                                                                      \r\r!\r  0% |          |0/? [00:00<?,    ?files/s]\r                                           \r\r!\r  0% Checkout|          |0/? [00:00<?,     ?file/s]\rCheckout:   0% 0/3 [00:00<?, ?file/s{'info': ''}]  \n",
            "\r!\u001b[A\n",
            "\rBuilding data objects from data          |0.00 [00:00,      ?obj/s]\u001b[A\n",
            "\r                                                                   \u001b[A\rCheckout:   0% 0/1 [00:00<?, ?file/s{'info': ''}]\n",
            "\r!\u001b[A\n",
            "\r  0%|          |/content/.dvc/cache/37/b4d3e87511890.00/? [00:00<?,        ?B/s]\u001b[A\n",
            "\r  0% 0.00/93.4k [00:00<?, ?B/s{'info': ''}]                                     \u001b[A\n",
            "\r                                           \u001b[A\rCheckout: 100% 1/1 [00:00<00:00, 52.81file/s{'info': ''}]\n",
            "\r!\u001b[A\n",
            "\r  0%|          |/content/.dvc/cache/6e/ab4a50d6c8f80.00/? [00:00<?,        ?B/s]\u001b[A\n",
            "\r  0% 0.00/272k [00:00<?, ?B/s{'info': ''}]                                      \u001b[A\n",
            "\r                                          \u001b[A\r  0% Checkout|          |2/? [00:00<00:00, 93.16file/s]  \n",
            "\r!\u001b[A\n",
            "\r  0%|          |/content/.dvc/cache/da/09dfd52a10790.00/? [00:00<?,        ?B/s]\u001b[A\n",
            "\r  0% 0.00/92.1k [00:00<?, ?B/s{'info': ''}]                                     \u001b[A\n",
            "\r                                           \u001b[A\r                                                       \r\u001b[33mM\u001b[0m       data/\n",
            "1 file modified\n",
            "\u001b[0m"
          ]
        }
      ]
    },
    {
      "cell_type": "code",
      "source": [
        "## check the data profile with seed 42\n",
        "train= pd.read_csv(train_file)\n",
        "test = pd.read_csv(test_file)\n",
        "valid = pd.read_csv(valid_file)\n",
        "print(\"Train set - number of 0s:\", sum(train['label'] == 0), \"number of 1s:\", sum(train['label'] == 1))\n",
        "print(\"Validation set - number of 0s:\", sum(validate['label'] == 0), \"number of 1s:\", sum(validate['label'] == 1))\n",
        "print(\"Test set - number of 0s:\", sum(test['label'] == 0), \"number of 1s:\", sum(test['label'] == 1))\n",
        "\n"
      ],
      "metadata": {
        "colab": {
          "base_uri": "https://localhost:8080/"
        },
        "id": "U-ko5aszfi-5",
        "outputId": "101f8edc-c191-47eb-ae6f-437a6c067de2"
      },
      "execution_count": null,
      "outputs": [
        {
          "output_type": "stream",
          "name": "stdout",
          "text": [
            "Train set - number of 0s: 2898 number of 1s: 445\n",
            "Validation set - number of 0s: 961 number of 1s: 153\n",
            "Test set - number of 0s: 961 number of 1s: 154\n"
          ]
        }
      ]
    },
    {
      "cell_type": "markdown",
      "source": [
        "- :as we can see we get data profile of previous version\n",
        "\n",
        "now again printing the recent version of data"
      ],
      "metadata": {
        "id": "B2RKnkzqF-Mx"
      }
    },
    {
      "cell_type": "code",
      "source": [
        "! git checkout HEAD data.dvc      \n",
        "! dvc checkout  "
      ],
      "metadata": {
        "colab": {
          "base_uri": "https://localhost:8080/"
        },
        "id": "lOLWc3HMGOL4",
        "outputId": "cc408656-7765-4347-cb7f-3692b9befbc2"
      },
      "execution_count": null,
      "outputs": [
        {
          "output_type": "stream",
          "name": "stdout",
          "text": [
            "Updated 1 path from e49777f\n",
            "Checkout:   0% 0/3 [00:00<?, ?file/s{'info': ''}]  \n",
            "!\u001b[A\n",
            "Building data objects from data          |0.00 [00:00,      ?obj/s]\u001b[A\n",
            "Checkout:   0% 0/1 [00:00<?, ?file/s{'info': ''}]\n",
            "!\u001b[A\n",
            "  0%|          |/content/.dvc/cache/a1/1d7b4caa477e0.00/? [00:00<?,        ?B/s]\u001b[A\n",
            "  0% 0.00/92.1k [00:00<?, ?B/s{'info': ''}]                                     \u001b[A\n",
            "Checkout: 100% 1/1 [00:00<00:00, 52.82file/s{'info': ''}]\n",
            "!\u001b[A\n",
            "  0%|          |/content/.dvc/cache/76/6d6ab3728a650.00/? [00:00<?,        ?B/s]\u001b[A\n",
            "  0% 0.00/273k [00:00<?, ?B/s{'info': ''}]                                      \u001b[A\n",
            "  0% Checkout|          |2/? [00:00<00:00, 90.47file/s]  \n",
            "!\u001b[A\n",
            "  0%|          |/content/.dvc/cache/b5/7b9fb1cf76b30.00/? [00:00<?,        ?B/s]\u001b[A\n",
            "  0% 0.00/92.5k [00:00<?, ?B/s{'info': ''}]                                     \u001b[A\n",
            "\u001b[33mM\u001b[0m       data/\n",
            "\u001b[0m"
          ]
        }
      ]
    },
    {
      "cell_type": "code",
      "source": [
        "## check the data profile with seed 100\n",
        "train= pd.read_csv(train_file)\n",
        "test = pd.read_csv(test_file)\n",
        "valid = pd.read_csv(valid_file)\n",
        "print(\"Train set - number of 0s:\", sum(train['label'] == 0), \"number of 1s:\", sum(train['label'] == 1))\n",
        "print(\"Validation set - number of 0s:\", sum(validate['label'] == 0), \"number of 1s:\", sum(validate['label'] == 1))\n",
        "print(\"Test set - number of 0s:\", sum(test['label'] == 0), \"number of 1s:\", sum(test['label'] == 1))\n",
        "\n"
      ],
      "metadata": {
        "colab": {
          "base_uri": "https://localhost:8080/"
        },
        "id": "YM6tY91Zh8bb",
        "outputId": "859b1c3a-3434-419a-a817-b0edfdb5c43f"
      },
      "execution_count": null,
      "outputs": [
        {
          "output_type": "stream",
          "name": "stdout",
          "text": [
            "Train set - number of 0s: 2894 number of 1s: 449\n",
            "Validation set - number of 0s: 961 number of 1s: 153\n",
            "Test set - number of 0s: 970 number of 1s: 145\n"
          ]
        }
      ]
    },
    {
      "cell_type": "markdown",
      "source": [
        "**so we have again printed the updated version**"
      ],
      "metadata": {
        "id": "8Xd19FESG4-Y"
      }
    },
    {
      "cell_type": "code",
      "source": [],
      "metadata": {
        "id": "XAzIAhCYGup9"
      },
      "execution_count": null,
      "outputs": []
    },
    {
      "cell_type": "code",
      "source": [],
      "metadata": {
        "id": "1KUlWXdZGy7w"
      },
      "execution_count": null,
      "outputs": []
    }
  ]
}