{
  "nbformat": 4,
  "nbformat_minor": 0,
  "metadata": {
    "colab": {
      "provenance": []
    },
    "kernelspec": {
      "name": "python3",
      "display_name": "Python 3"
    },
    "language_info": {
      "name": "python"
    }
  },
  "cells": [
    {
      "cell_type": "code",
      "execution_count": 7,
      "metadata": {
        "id": "PzaMqcaME_7S"
      },
      "outputs": [],
      "source": [
        "import pandas as pd\n",
        "import imblearn\n",
        "from imblearn.over_sampling import SMOTE\n",
        "from sklearn.metrics import accuracy_score, classification_report"
      ]
    },
    {
      "cell_type": "code",
      "source": [
        "clean_test= pd.read_csv('clean_test.csv')\n",
        "clean_train= pd.read_csv('clean_train.csv')\n",
        "clean_valid= pd.read_csv('clean_valid.csv')"
      ],
      "metadata": {
        "id": "eevdmFZkFHym"
      },
      "execution_count": 2,
      "outputs": []
    },
    {
      "cell_type": "code",
      "source": [
        "clean_test.head()"
      ],
      "metadata": {
        "colab": {
          "base_uri": "https://localhost:8080/",
          "height": 317
        },
        "id": "Qm05RLikJOpO",
        "outputId": "5df240d9-61db-45b7-b27b-ce10c79b9b81"
      },
      "execution_count": 3,
      "outputs": [
        {
          "output_type": "execute_result",
          "data": {
            "text/plain": [
              "   Unnamed: 0         1         2         3         4         5         6  \\\n",
              "0           0 -0.006106 -0.017323  0.010018  0.000162 -0.010869 -0.014983   \n",
              "1           1 -0.025590 -0.011748 -0.011015 -0.045809 -0.035080 -0.019468   \n",
              "2           2 -0.013536 -0.030806  0.000213 -0.045282  0.034772  0.252739   \n",
              "3           3  0.233055  0.000143 -0.041087 -0.077430 -0.124727 -0.124795   \n",
              "4           4 -0.020847 -0.017792 -0.027428  0.048610 -0.003020 -0.057793   \n",
              "\n",
              "          7         8         9  ...        12        13        14        15  \\\n",
              "0 -0.017576 -0.023403 -0.011200  ... -0.003887  0.007716  0.004664 -0.045852   \n",
              "1 -0.031520 -0.014525 -0.048430  ...  0.030729  0.017520  0.006541 -0.035717   \n",
              "2 -0.044197  0.003539  0.048456  ...  0.049210 -0.006120  0.013758 -0.055657   \n",
              "3  0.057186  0.131462  0.210410  ... -0.063327 -0.071557  0.113556 -0.060079   \n",
              "4 -0.083301 -0.078412 -0.045958  ...  0.066751  0.159130 -0.036188  0.239901   \n",
              "\n",
              "         16        17        18        19        20  target  \n",
              "0 -0.027145 -0.016353  0.012189 -0.011100  0.009411       0  \n",
              "1  0.018211  0.006560  0.098270  0.058421 -0.024556       0  \n",
              "2 -0.020782  0.056603 -0.010829 -0.039656 -0.041803       0  \n",
              "3 -0.009442  0.108288  0.005616  0.012295  0.074677       0  \n",
              "4 -0.101722 -0.089125 -0.063903 -0.000301  0.196552       0  \n",
              "\n",
              "[5 rows x 22 columns]"
            ],
            "text/html": [
              "\n",
              "  <div id=\"df-9950e02e-815c-44d4-8749-0af54aa2b4b5\">\n",
              "    <div class=\"colab-df-container\">\n",
              "      <div>\n",
              "<style scoped>\n",
              "    .dataframe tbody tr th:only-of-type {\n",
              "        vertical-align: middle;\n",
              "    }\n",
              "\n",
              "    .dataframe tbody tr th {\n",
              "        vertical-align: top;\n",
              "    }\n",
              "\n",
              "    .dataframe thead th {\n",
              "        text-align: right;\n",
              "    }\n",
              "</style>\n",
              "<table border=\"1\" class=\"dataframe\">\n",
              "  <thead>\n",
              "    <tr style=\"text-align: right;\">\n",
              "      <th></th>\n",
              "      <th>Unnamed: 0</th>\n",
              "      <th>1</th>\n",
              "      <th>2</th>\n",
              "      <th>3</th>\n",
              "      <th>4</th>\n",
              "      <th>5</th>\n",
              "      <th>6</th>\n",
              "      <th>7</th>\n",
              "      <th>8</th>\n",
              "      <th>9</th>\n",
              "      <th>...</th>\n",
              "      <th>12</th>\n",
              "      <th>13</th>\n",
              "      <th>14</th>\n",
              "      <th>15</th>\n",
              "      <th>16</th>\n",
              "      <th>17</th>\n",
              "      <th>18</th>\n",
              "      <th>19</th>\n",
              "      <th>20</th>\n",
              "      <th>target</th>\n",
              "    </tr>\n",
              "  </thead>\n",
              "  <tbody>\n",
              "    <tr>\n",
              "      <th>0</th>\n",
              "      <td>0</td>\n",
              "      <td>-0.006106</td>\n",
              "      <td>-0.017323</td>\n",
              "      <td>0.010018</td>\n",
              "      <td>0.000162</td>\n",
              "      <td>-0.010869</td>\n",
              "      <td>-0.014983</td>\n",
              "      <td>-0.017576</td>\n",
              "      <td>-0.023403</td>\n",
              "      <td>-0.011200</td>\n",
              "      <td>...</td>\n",
              "      <td>-0.003887</td>\n",
              "      <td>0.007716</td>\n",
              "      <td>0.004664</td>\n",
              "      <td>-0.045852</td>\n",
              "      <td>-0.027145</td>\n",
              "      <td>-0.016353</td>\n",
              "      <td>0.012189</td>\n",
              "      <td>-0.011100</td>\n",
              "      <td>0.009411</td>\n",
              "      <td>0</td>\n",
              "    </tr>\n",
              "    <tr>\n",
              "      <th>1</th>\n",
              "      <td>1</td>\n",
              "      <td>-0.025590</td>\n",
              "      <td>-0.011748</td>\n",
              "      <td>-0.011015</td>\n",
              "      <td>-0.045809</td>\n",
              "      <td>-0.035080</td>\n",
              "      <td>-0.019468</td>\n",
              "      <td>-0.031520</td>\n",
              "      <td>-0.014525</td>\n",
              "      <td>-0.048430</td>\n",
              "      <td>...</td>\n",
              "      <td>0.030729</td>\n",
              "      <td>0.017520</td>\n",
              "      <td>0.006541</td>\n",
              "      <td>-0.035717</td>\n",
              "      <td>0.018211</td>\n",
              "      <td>0.006560</td>\n",
              "      <td>0.098270</td>\n",
              "      <td>0.058421</td>\n",
              "      <td>-0.024556</td>\n",
              "      <td>0</td>\n",
              "    </tr>\n",
              "    <tr>\n",
              "      <th>2</th>\n",
              "      <td>2</td>\n",
              "      <td>-0.013536</td>\n",
              "      <td>-0.030806</td>\n",
              "      <td>0.000213</td>\n",
              "      <td>-0.045282</td>\n",
              "      <td>0.034772</td>\n",
              "      <td>0.252739</td>\n",
              "      <td>-0.044197</td>\n",
              "      <td>0.003539</td>\n",
              "      <td>0.048456</td>\n",
              "      <td>...</td>\n",
              "      <td>0.049210</td>\n",
              "      <td>-0.006120</td>\n",
              "      <td>0.013758</td>\n",
              "      <td>-0.055657</td>\n",
              "      <td>-0.020782</td>\n",
              "      <td>0.056603</td>\n",
              "      <td>-0.010829</td>\n",
              "      <td>-0.039656</td>\n",
              "      <td>-0.041803</td>\n",
              "      <td>0</td>\n",
              "    </tr>\n",
              "    <tr>\n",
              "      <th>3</th>\n",
              "      <td>3</td>\n",
              "      <td>0.233055</td>\n",
              "      <td>0.000143</td>\n",
              "      <td>-0.041087</td>\n",
              "      <td>-0.077430</td>\n",
              "      <td>-0.124727</td>\n",
              "      <td>-0.124795</td>\n",
              "      <td>0.057186</td>\n",
              "      <td>0.131462</td>\n",
              "      <td>0.210410</td>\n",
              "      <td>...</td>\n",
              "      <td>-0.063327</td>\n",
              "      <td>-0.071557</td>\n",
              "      <td>0.113556</td>\n",
              "      <td>-0.060079</td>\n",
              "      <td>-0.009442</td>\n",
              "      <td>0.108288</td>\n",
              "      <td>0.005616</td>\n",
              "      <td>0.012295</td>\n",
              "      <td>0.074677</td>\n",
              "      <td>0</td>\n",
              "    </tr>\n",
              "    <tr>\n",
              "      <th>4</th>\n",
              "      <td>4</td>\n",
              "      <td>-0.020847</td>\n",
              "      <td>-0.017792</td>\n",
              "      <td>-0.027428</td>\n",
              "      <td>0.048610</td>\n",
              "      <td>-0.003020</td>\n",
              "      <td>-0.057793</td>\n",
              "      <td>-0.083301</td>\n",
              "      <td>-0.078412</td>\n",
              "      <td>-0.045958</td>\n",
              "      <td>...</td>\n",
              "      <td>0.066751</td>\n",
              "      <td>0.159130</td>\n",
              "      <td>-0.036188</td>\n",
              "      <td>0.239901</td>\n",
              "      <td>-0.101722</td>\n",
              "      <td>-0.089125</td>\n",
              "      <td>-0.063903</td>\n",
              "      <td>-0.000301</td>\n",
              "      <td>0.196552</td>\n",
              "      <td>0</td>\n",
              "    </tr>\n",
              "  </tbody>\n",
              "</table>\n",
              "<p>5 rows × 22 columns</p>\n",
              "</div>\n",
              "      <button class=\"colab-df-convert\" onclick=\"convertToInteractive('df-9950e02e-815c-44d4-8749-0af54aa2b4b5')\"\n",
              "              title=\"Convert this dataframe to an interactive table.\"\n",
              "              style=\"display:none;\">\n",
              "        \n",
              "  <svg xmlns=\"http://www.w3.org/2000/svg\" height=\"24px\"viewBox=\"0 0 24 24\"\n",
              "       width=\"24px\">\n",
              "    <path d=\"M0 0h24v24H0V0z\" fill=\"none\"/>\n",
              "    <path d=\"M18.56 5.44l.94 2.06.94-2.06 2.06-.94-2.06-.94-.94-2.06-.94 2.06-2.06.94zm-11 1L8.5 8.5l.94-2.06 2.06-.94-2.06-.94L8.5 2.5l-.94 2.06-2.06.94zm10 10l.94 2.06.94-2.06 2.06-.94-2.06-.94-.94-2.06-.94 2.06-2.06.94z\"/><path d=\"M17.41 7.96l-1.37-1.37c-.4-.4-.92-.59-1.43-.59-.52 0-1.04.2-1.43.59L10.3 9.45l-7.72 7.72c-.78.78-.78 2.05 0 2.83L4 21.41c.39.39.9.59 1.41.59.51 0 1.02-.2 1.41-.59l7.78-7.78 2.81-2.81c.8-.78.8-2.07 0-2.86zM5.41 20L4 18.59l7.72-7.72 1.47 1.35L5.41 20z\"/>\n",
              "  </svg>\n",
              "      </button>\n",
              "      \n",
              "  <style>\n",
              "    .colab-df-container {\n",
              "      display:flex;\n",
              "      flex-wrap:wrap;\n",
              "      gap: 12px;\n",
              "    }\n",
              "\n",
              "    .colab-df-convert {\n",
              "      background-color: #E8F0FE;\n",
              "      border: none;\n",
              "      border-radius: 50%;\n",
              "      cursor: pointer;\n",
              "      display: none;\n",
              "      fill: #1967D2;\n",
              "      height: 32px;\n",
              "      padding: 0 0 0 0;\n",
              "      width: 32px;\n",
              "    }\n",
              "\n",
              "    .colab-df-convert:hover {\n",
              "      background-color: #E2EBFA;\n",
              "      box-shadow: 0px 1px 2px rgba(60, 64, 67, 0.3), 0px 1px 3px 1px rgba(60, 64, 67, 0.15);\n",
              "      fill: #174EA6;\n",
              "    }\n",
              "\n",
              "    [theme=dark] .colab-df-convert {\n",
              "      background-color: #3B4455;\n",
              "      fill: #D2E3FC;\n",
              "    }\n",
              "\n",
              "    [theme=dark] .colab-df-convert:hover {\n",
              "      background-color: #434B5C;\n",
              "      box-shadow: 0px 1px 3px 1px rgba(0, 0, 0, 0.15);\n",
              "      filter: drop-shadow(0px 1px 2px rgba(0, 0, 0, 0.3));\n",
              "      fill: #FFFFFF;\n",
              "    }\n",
              "  </style>\n",
              "\n",
              "      <script>\n",
              "        const buttonEl =\n",
              "          document.querySelector('#df-9950e02e-815c-44d4-8749-0af54aa2b4b5 button.colab-df-convert');\n",
              "        buttonEl.style.display =\n",
              "          google.colab.kernel.accessAllowed ? 'block' : 'none';\n",
              "\n",
              "        async function convertToInteractive(key) {\n",
              "          const element = document.querySelector('#df-9950e02e-815c-44d4-8749-0af54aa2b4b5');\n",
              "          const dataTable =\n",
              "            await google.colab.kernel.invokeFunction('convertToInteractive',\n",
              "                                                     [key], {});\n",
              "          if (!dataTable) return;\n",
              "\n",
              "          const docLinkHtml = 'Like what you see? Visit the ' +\n",
              "            '<a target=\"_blank\" href=https://colab.research.google.com/notebooks/data_table.ipynb>data table notebook</a>'\n",
              "            + ' to learn more about interactive tables.';\n",
              "          element.innerHTML = '';\n",
              "          dataTable['output_type'] = 'display_data';\n",
              "          await google.colab.output.renderOutput(dataTable, element);\n",
              "          const docLink = document.createElement('div');\n",
              "          docLink.innerHTML = docLinkHtml;\n",
              "          element.appendChild(docLink);\n",
              "        }\n",
              "      </script>\n",
              "    </div>\n",
              "  </div>\n",
              "  "
            ]
          },
          "metadata": {},
          "execution_count": 3
        }
      ]
    },
    {
      "cell_type": "code",
      "source": [
        "clean_train.head()"
      ],
      "metadata": {
        "colab": {
          "base_uri": "https://localhost:8080/",
          "height": 317
        },
        "id": "daiqecWQJSqv",
        "outputId": "a22cec97-8956-444c-ca62-91991b2c95e8"
      },
      "execution_count": 4,
      "outputs": [
        {
          "output_type": "execute_result",
          "data": {
            "text/plain": [
              "   Unnamed: 0         1         2         3         4         5         6  \\\n",
              "0           0 -0.003173 -0.000882  0.033354  0.030973 -0.010749  0.018649   \n",
              "1           1 -0.023781 -0.015600  0.069585 -0.029231 -0.006057  0.052954   \n",
              "2           2 -0.011903 -0.016064 -0.015150 -0.006831 -0.013297  0.006234   \n",
              "3           3  0.047622  0.452925 -0.032184  0.005439  0.025612  0.037362   \n",
              "4           4 -0.017249 -0.009569  0.013907  0.043203 -0.014938  0.004608   \n",
              "\n",
              "          7         8         9  ...        12        13        14        15  \\\n",
              "0 -0.011156 -0.030592 -0.001529  ...  0.004711  0.084619  0.045057 -0.008905   \n",
              "1 -0.012233  0.015796  0.037437  ...  0.094510 -0.000123 -0.001441 -0.000575   \n",
              "2 -0.004035 -0.001978 -0.003765  ...  0.042963 -0.007169 -0.000556  0.005347   \n",
              "3 -0.059981 -0.015386 -0.033357  ...  0.049030 -0.026254  0.010350 -0.027137   \n",
              "4  0.004770  0.046237  0.014187  ...  0.192907 -0.050289  0.220694 -0.017173   \n",
              "\n",
              "         16        17        18        19        20  target  \n",
              "0  0.006092 -0.090259 -0.022170  0.044593 -0.062312       0  \n",
              "1  0.090334 -0.037713 -0.018147 -0.030219  0.020128       0  \n",
              "2  0.025716 -0.023383 -0.016988  0.000309 -0.014644       0  \n",
              "3  0.012367  0.024758  0.013180 -0.050674 -0.071168       0  \n",
              "4 -0.008997  0.025578  0.139728 -0.013193  0.067912       0  \n",
              "\n",
              "[5 rows x 22 columns]"
            ],
            "text/html": [
              "\n",
              "  <div id=\"df-6add5d20-6db1-40f8-8225-1e478fe1b4b2\">\n",
              "    <div class=\"colab-df-container\">\n",
              "      <div>\n",
              "<style scoped>\n",
              "    .dataframe tbody tr th:only-of-type {\n",
              "        vertical-align: middle;\n",
              "    }\n",
              "\n",
              "    .dataframe tbody tr th {\n",
              "        vertical-align: top;\n",
              "    }\n",
              "\n",
              "    .dataframe thead th {\n",
              "        text-align: right;\n",
              "    }\n",
              "</style>\n",
              "<table border=\"1\" class=\"dataframe\">\n",
              "  <thead>\n",
              "    <tr style=\"text-align: right;\">\n",
              "      <th></th>\n",
              "      <th>Unnamed: 0</th>\n",
              "      <th>1</th>\n",
              "      <th>2</th>\n",
              "      <th>3</th>\n",
              "      <th>4</th>\n",
              "      <th>5</th>\n",
              "      <th>6</th>\n",
              "      <th>7</th>\n",
              "      <th>8</th>\n",
              "      <th>9</th>\n",
              "      <th>...</th>\n",
              "      <th>12</th>\n",
              "      <th>13</th>\n",
              "      <th>14</th>\n",
              "      <th>15</th>\n",
              "      <th>16</th>\n",
              "      <th>17</th>\n",
              "      <th>18</th>\n",
              "      <th>19</th>\n",
              "      <th>20</th>\n",
              "      <th>target</th>\n",
              "    </tr>\n",
              "  </thead>\n",
              "  <tbody>\n",
              "    <tr>\n",
              "      <th>0</th>\n",
              "      <td>0</td>\n",
              "      <td>-0.003173</td>\n",
              "      <td>-0.000882</td>\n",
              "      <td>0.033354</td>\n",
              "      <td>0.030973</td>\n",
              "      <td>-0.010749</td>\n",
              "      <td>0.018649</td>\n",
              "      <td>-0.011156</td>\n",
              "      <td>-0.030592</td>\n",
              "      <td>-0.001529</td>\n",
              "      <td>...</td>\n",
              "      <td>0.004711</td>\n",
              "      <td>0.084619</td>\n",
              "      <td>0.045057</td>\n",
              "      <td>-0.008905</td>\n",
              "      <td>0.006092</td>\n",
              "      <td>-0.090259</td>\n",
              "      <td>-0.022170</td>\n",
              "      <td>0.044593</td>\n",
              "      <td>-0.062312</td>\n",
              "      <td>0</td>\n",
              "    </tr>\n",
              "    <tr>\n",
              "      <th>1</th>\n",
              "      <td>1</td>\n",
              "      <td>-0.023781</td>\n",
              "      <td>-0.015600</td>\n",
              "      <td>0.069585</td>\n",
              "      <td>-0.029231</td>\n",
              "      <td>-0.006057</td>\n",
              "      <td>0.052954</td>\n",
              "      <td>-0.012233</td>\n",
              "      <td>0.015796</td>\n",
              "      <td>0.037437</td>\n",
              "      <td>...</td>\n",
              "      <td>0.094510</td>\n",
              "      <td>-0.000123</td>\n",
              "      <td>-0.001441</td>\n",
              "      <td>-0.000575</td>\n",
              "      <td>0.090334</td>\n",
              "      <td>-0.037713</td>\n",
              "      <td>-0.018147</td>\n",
              "      <td>-0.030219</td>\n",
              "      <td>0.020128</td>\n",
              "      <td>0</td>\n",
              "    </tr>\n",
              "    <tr>\n",
              "      <th>2</th>\n",
              "      <td>2</td>\n",
              "      <td>-0.011903</td>\n",
              "      <td>-0.016064</td>\n",
              "      <td>-0.015150</td>\n",
              "      <td>-0.006831</td>\n",
              "      <td>-0.013297</td>\n",
              "      <td>0.006234</td>\n",
              "      <td>-0.004035</td>\n",
              "      <td>-0.001978</td>\n",
              "      <td>-0.003765</td>\n",
              "      <td>...</td>\n",
              "      <td>0.042963</td>\n",
              "      <td>-0.007169</td>\n",
              "      <td>-0.000556</td>\n",
              "      <td>0.005347</td>\n",
              "      <td>0.025716</td>\n",
              "      <td>-0.023383</td>\n",
              "      <td>-0.016988</td>\n",
              "      <td>0.000309</td>\n",
              "      <td>-0.014644</td>\n",
              "      <td>0</td>\n",
              "    </tr>\n",
              "    <tr>\n",
              "      <th>3</th>\n",
              "      <td>3</td>\n",
              "      <td>0.047622</td>\n",
              "      <td>0.452925</td>\n",
              "      <td>-0.032184</td>\n",
              "      <td>0.005439</td>\n",
              "      <td>0.025612</td>\n",
              "      <td>0.037362</td>\n",
              "      <td>-0.059981</td>\n",
              "      <td>-0.015386</td>\n",
              "      <td>-0.033357</td>\n",
              "      <td>...</td>\n",
              "      <td>0.049030</td>\n",
              "      <td>-0.026254</td>\n",
              "      <td>0.010350</td>\n",
              "      <td>-0.027137</td>\n",
              "      <td>0.012367</td>\n",
              "      <td>0.024758</td>\n",
              "      <td>0.013180</td>\n",
              "      <td>-0.050674</td>\n",
              "      <td>-0.071168</td>\n",
              "      <td>0</td>\n",
              "    </tr>\n",
              "    <tr>\n",
              "      <th>4</th>\n",
              "      <td>4</td>\n",
              "      <td>-0.017249</td>\n",
              "      <td>-0.009569</td>\n",
              "      <td>0.013907</td>\n",
              "      <td>0.043203</td>\n",
              "      <td>-0.014938</td>\n",
              "      <td>0.004608</td>\n",
              "      <td>0.004770</td>\n",
              "      <td>0.046237</td>\n",
              "      <td>0.014187</td>\n",
              "      <td>...</td>\n",
              "      <td>0.192907</td>\n",
              "      <td>-0.050289</td>\n",
              "      <td>0.220694</td>\n",
              "      <td>-0.017173</td>\n",
              "      <td>-0.008997</td>\n",
              "      <td>0.025578</td>\n",
              "      <td>0.139728</td>\n",
              "      <td>-0.013193</td>\n",
              "      <td>0.067912</td>\n",
              "      <td>0</td>\n",
              "    </tr>\n",
              "  </tbody>\n",
              "</table>\n",
              "<p>5 rows × 22 columns</p>\n",
              "</div>\n",
              "      <button class=\"colab-df-convert\" onclick=\"convertToInteractive('df-6add5d20-6db1-40f8-8225-1e478fe1b4b2')\"\n",
              "              title=\"Convert this dataframe to an interactive table.\"\n",
              "              style=\"display:none;\">\n",
              "        \n",
              "  <svg xmlns=\"http://www.w3.org/2000/svg\" height=\"24px\"viewBox=\"0 0 24 24\"\n",
              "       width=\"24px\">\n",
              "    <path d=\"M0 0h24v24H0V0z\" fill=\"none\"/>\n",
              "    <path d=\"M18.56 5.44l.94 2.06.94-2.06 2.06-.94-2.06-.94-.94-2.06-.94 2.06-2.06.94zm-11 1L8.5 8.5l.94-2.06 2.06-.94-2.06-.94L8.5 2.5l-.94 2.06-2.06.94zm10 10l.94 2.06.94-2.06 2.06-.94-2.06-.94-.94-2.06-.94 2.06-2.06.94z\"/><path d=\"M17.41 7.96l-1.37-1.37c-.4-.4-.92-.59-1.43-.59-.52 0-1.04.2-1.43.59L10.3 9.45l-7.72 7.72c-.78.78-.78 2.05 0 2.83L4 21.41c.39.39.9.59 1.41.59.51 0 1.02-.2 1.41-.59l7.78-7.78 2.81-2.81c.8-.78.8-2.07 0-2.86zM5.41 20L4 18.59l7.72-7.72 1.47 1.35L5.41 20z\"/>\n",
              "  </svg>\n",
              "      </button>\n",
              "      \n",
              "  <style>\n",
              "    .colab-df-container {\n",
              "      display:flex;\n",
              "      flex-wrap:wrap;\n",
              "      gap: 12px;\n",
              "    }\n",
              "\n",
              "    .colab-df-convert {\n",
              "      background-color: #E8F0FE;\n",
              "      border: none;\n",
              "      border-radius: 50%;\n",
              "      cursor: pointer;\n",
              "      display: none;\n",
              "      fill: #1967D2;\n",
              "      height: 32px;\n",
              "      padding: 0 0 0 0;\n",
              "      width: 32px;\n",
              "    }\n",
              "\n",
              "    .colab-df-convert:hover {\n",
              "      background-color: #E2EBFA;\n",
              "      box-shadow: 0px 1px 2px rgba(60, 64, 67, 0.3), 0px 1px 3px 1px rgba(60, 64, 67, 0.15);\n",
              "      fill: #174EA6;\n",
              "    }\n",
              "\n",
              "    [theme=dark] .colab-df-convert {\n",
              "      background-color: #3B4455;\n",
              "      fill: #D2E3FC;\n",
              "    }\n",
              "\n",
              "    [theme=dark] .colab-df-convert:hover {\n",
              "      background-color: #434B5C;\n",
              "      box-shadow: 0px 1px 3px 1px rgba(0, 0, 0, 0.15);\n",
              "      filter: drop-shadow(0px 1px 2px rgba(0, 0, 0, 0.3));\n",
              "      fill: #FFFFFF;\n",
              "    }\n",
              "  </style>\n",
              "\n",
              "      <script>\n",
              "        const buttonEl =\n",
              "          document.querySelector('#df-6add5d20-6db1-40f8-8225-1e478fe1b4b2 button.colab-df-convert');\n",
              "        buttonEl.style.display =\n",
              "          google.colab.kernel.accessAllowed ? 'block' : 'none';\n",
              "\n",
              "        async function convertToInteractive(key) {\n",
              "          const element = document.querySelector('#df-6add5d20-6db1-40f8-8225-1e478fe1b4b2');\n",
              "          const dataTable =\n",
              "            await google.colab.kernel.invokeFunction('convertToInteractive',\n",
              "                                                     [key], {});\n",
              "          if (!dataTable) return;\n",
              "\n",
              "          const docLinkHtml = 'Like what you see? Visit the ' +\n",
              "            '<a target=\"_blank\" href=https://colab.research.google.com/notebooks/data_table.ipynb>data table notebook</a>'\n",
              "            + ' to learn more about interactive tables.';\n",
              "          element.innerHTML = '';\n",
              "          dataTable['output_type'] = 'display_data';\n",
              "          await google.colab.output.renderOutput(dataTable, element);\n",
              "          const docLink = document.createElement('div');\n",
              "          docLink.innerHTML = docLinkHtml;\n",
              "          element.appendChild(docLink);\n",
              "        }\n",
              "      </script>\n",
              "    </div>\n",
              "  </div>\n",
              "  "
            ]
          },
          "metadata": {},
          "execution_count": 4
        }
      ]
    },
    {
      "cell_type": "code",
      "source": [
        "clean_valid.head()"
      ],
      "metadata": {
        "colab": {
          "base_uri": "https://localhost:8080/",
          "height": 317
        },
        "id": "wVtHcRuAJVDM",
        "outputId": "a1114dea-dfc6-4c89-8f9b-737fc582f8d1"
      },
      "execution_count": 5,
      "outputs": [
        {
          "output_type": "execute_result",
          "data": {
            "text/plain": [
              "   Unnamed: 0         1         2         3         4         5         6  \\\n",
              "0           0 -0.018448 -0.038103  0.005937 -0.018635 -0.026736 -0.001622   \n",
              "1           1 -0.015554 -0.031923  0.004686 -0.015176 -0.009926 -0.003197   \n",
              "2           2 -0.030514 -0.058019 -0.006211  0.033809  0.086550 -0.028042   \n",
              "3           3 -0.018416 -0.048440  0.018754  0.056281 -0.050306  0.096529   \n",
              "4           4 -0.017369 -0.032273  0.005637 -0.013686 -0.010661 -0.006092   \n",
              "\n",
              "          7         8         9  ...        12        13        14        15  \\\n",
              "0  0.024851 -0.002407 -0.014209  ... -0.032802  0.004427 -0.019779 -0.011858   \n",
              "1  0.021329 -0.009572 -0.006486  ... -0.024409  0.011212 -0.016810 -0.005173   \n",
              "2 -0.091000 -0.123521  0.038452  ...  0.104490  0.011378 -0.023989 -0.053986   \n",
              "3  0.105008  0.049266 -0.047686  ... -0.014183 -0.040762  0.032227 -0.066526   \n",
              "4  0.022861  0.005283 -0.016279  ... -0.023937  0.001420 -0.014803 -0.013904   \n",
              "\n",
              "         16        17        18        19        20  target  \n",
              "0  0.002304 -0.028436  0.047450  0.003976 -0.015014       1  \n",
              "1 -0.003157 -0.015212  0.019044  0.025107 -0.004970       0  \n",
              "2  0.015500 -0.135022 -0.088638 -0.043007  0.099628       0  \n",
              "3 -0.097143  0.051571 -0.045706 -0.012550  0.069361       0  \n",
              "4  0.009008 -0.009298  0.024897  0.015028 -0.008649       0  \n",
              "\n",
              "[5 rows x 22 columns]"
            ],
            "text/html": [
              "\n",
              "  <div id=\"df-b491011c-0bca-4f71-83a1-e1cfa205c9f4\">\n",
              "    <div class=\"colab-df-container\">\n",
              "      <div>\n",
              "<style scoped>\n",
              "    .dataframe tbody tr th:only-of-type {\n",
              "        vertical-align: middle;\n",
              "    }\n",
              "\n",
              "    .dataframe tbody tr th {\n",
              "        vertical-align: top;\n",
              "    }\n",
              "\n",
              "    .dataframe thead th {\n",
              "        text-align: right;\n",
              "    }\n",
              "</style>\n",
              "<table border=\"1\" class=\"dataframe\">\n",
              "  <thead>\n",
              "    <tr style=\"text-align: right;\">\n",
              "      <th></th>\n",
              "      <th>Unnamed: 0</th>\n",
              "      <th>1</th>\n",
              "      <th>2</th>\n",
              "      <th>3</th>\n",
              "      <th>4</th>\n",
              "      <th>5</th>\n",
              "      <th>6</th>\n",
              "      <th>7</th>\n",
              "      <th>8</th>\n",
              "      <th>9</th>\n",
              "      <th>...</th>\n",
              "      <th>12</th>\n",
              "      <th>13</th>\n",
              "      <th>14</th>\n",
              "      <th>15</th>\n",
              "      <th>16</th>\n",
              "      <th>17</th>\n",
              "      <th>18</th>\n",
              "      <th>19</th>\n",
              "      <th>20</th>\n",
              "      <th>target</th>\n",
              "    </tr>\n",
              "  </thead>\n",
              "  <tbody>\n",
              "    <tr>\n",
              "      <th>0</th>\n",
              "      <td>0</td>\n",
              "      <td>-0.018448</td>\n",
              "      <td>-0.038103</td>\n",
              "      <td>0.005937</td>\n",
              "      <td>-0.018635</td>\n",
              "      <td>-0.026736</td>\n",
              "      <td>-0.001622</td>\n",
              "      <td>0.024851</td>\n",
              "      <td>-0.002407</td>\n",
              "      <td>-0.014209</td>\n",
              "      <td>...</td>\n",
              "      <td>-0.032802</td>\n",
              "      <td>0.004427</td>\n",
              "      <td>-0.019779</td>\n",
              "      <td>-0.011858</td>\n",
              "      <td>0.002304</td>\n",
              "      <td>-0.028436</td>\n",
              "      <td>0.047450</td>\n",
              "      <td>0.003976</td>\n",
              "      <td>-0.015014</td>\n",
              "      <td>1</td>\n",
              "    </tr>\n",
              "    <tr>\n",
              "      <th>1</th>\n",
              "      <td>1</td>\n",
              "      <td>-0.015554</td>\n",
              "      <td>-0.031923</td>\n",
              "      <td>0.004686</td>\n",
              "      <td>-0.015176</td>\n",
              "      <td>-0.009926</td>\n",
              "      <td>-0.003197</td>\n",
              "      <td>0.021329</td>\n",
              "      <td>-0.009572</td>\n",
              "      <td>-0.006486</td>\n",
              "      <td>...</td>\n",
              "      <td>-0.024409</td>\n",
              "      <td>0.011212</td>\n",
              "      <td>-0.016810</td>\n",
              "      <td>-0.005173</td>\n",
              "      <td>-0.003157</td>\n",
              "      <td>-0.015212</td>\n",
              "      <td>0.019044</td>\n",
              "      <td>0.025107</td>\n",
              "      <td>-0.004970</td>\n",
              "      <td>0</td>\n",
              "    </tr>\n",
              "    <tr>\n",
              "      <th>2</th>\n",
              "      <td>2</td>\n",
              "      <td>-0.030514</td>\n",
              "      <td>-0.058019</td>\n",
              "      <td>-0.006211</td>\n",
              "      <td>0.033809</td>\n",
              "      <td>0.086550</td>\n",
              "      <td>-0.028042</td>\n",
              "      <td>-0.091000</td>\n",
              "      <td>-0.123521</td>\n",
              "      <td>0.038452</td>\n",
              "      <td>...</td>\n",
              "      <td>0.104490</td>\n",
              "      <td>0.011378</td>\n",
              "      <td>-0.023989</td>\n",
              "      <td>-0.053986</td>\n",
              "      <td>0.015500</td>\n",
              "      <td>-0.135022</td>\n",
              "      <td>-0.088638</td>\n",
              "      <td>-0.043007</td>\n",
              "      <td>0.099628</td>\n",
              "      <td>0</td>\n",
              "    </tr>\n",
              "    <tr>\n",
              "      <th>3</th>\n",
              "      <td>3</td>\n",
              "      <td>-0.018416</td>\n",
              "      <td>-0.048440</td>\n",
              "      <td>0.018754</td>\n",
              "      <td>0.056281</td>\n",
              "      <td>-0.050306</td>\n",
              "      <td>0.096529</td>\n",
              "      <td>0.105008</td>\n",
              "      <td>0.049266</td>\n",
              "      <td>-0.047686</td>\n",
              "      <td>...</td>\n",
              "      <td>-0.014183</td>\n",
              "      <td>-0.040762</td>\n",
              "      <td>0.032227</td>\n",
              "      <td>-0.066526</td>\n",
              "      <td>-0.097143</td>\n",
              "      <td>0.051571</td>\n",
              "      <td>-0.045706</td>\n",
              "      <td>-0.012550</td>\n",
              "      <td>0.069361</td>\n",
              "      <td>0</td>\n",
              "    </tr>\n",
              "    <tr>\n",
              "      <th>4</th>\n",
              "      <td>4</td>\n",
              "      <td>-0.017369</td>\n",
              "      <td>-0.032273</td>\n",
              "      <td>0.005637</td>\n",
              "      <td>-0.013686</td>\n",
              "      <td>-0.010661</td>\n",
              "      <td>-0.006092</td>\n",
              "      <td>0.022861</td>\n",
              "      <td>0.005283</td>\n",
              "      <td>-0.016279</td>\n",
              "      <td>...</td>\n",
              "      <td>-0.023937</td>\n",
              "      <td>0.001420</td>\n",
              "      <td>-0.014803</td>\n",
              "      <td>-0.013904</td>\n",
              "      <td>0.009008</td>\n",
              "      <td>-0.009298</td>\n",
              "      <td>0.024897</td>\n",
              "      <td>0.015028</td>\n",
              "      <td>-0.008649</td>\n",
              "      <td>0</td>\n",
              "    </tr>\n",
              "  </tbody>\n",
              "</table>\n",
              "<p>5 rows × 22 columns</p>\n",
              "</div>\n",
              "      <button class=\"colab-df-convert\" onclick=\"convertToInteractive('df-b491011c-0bca-4f71-83a1-e1cfa205c9f4')\"\n",
              "              title=\"Convert this dataframe to an interactive table.\"\n",
              "              style=\"display:none;\">\n",
              "        \n",
              "  <svg xmlns=\"http://www.w3.org/2000/svg\" height=\"24px\"viewBox=\"0 0 24 24\"\n",
              "       width=\"24px\">\n",
              "    <path d=\"M0 0h24v24H0V0z\" fill=\"none\"/>\n",
              "    <path d=\"M18.56 5.44l.94 2.06.94-2.06 2.06-.94-2.06-.94-.94-2.06-.94 2.06-2.06.94zm-11 1L8.5 8.5l.94-2.06 2.06-.94-2.06-.94L8.5 2.5l-.94 2.06-2.06.94zm10 10l.94 2.06.94-2.06 2.06-.94-2.06-.94-.94-2.06-.94 2.06-2.06.94z\"/><path d=\"M17.41 7.96l-1.37-1.37c-.4-.4-.92-.59-1.43-.59-.52 0-1.04.2-1.43.59L10.3 9.45l-7.72 7.72c-.78.78-.78 2.05 0 2.83L4 21.41c.39.39.9.59 1.41.59.51 0 1.02-.2 1.41-.59l7.78-7.78 2.81-2.81c.8-.78.8-2.07 0-2.86zM5.41 20L4 18.59l7.72-7.72 1.47 1.35L5.41 20z\"/>\n",
              "  </svg>\n",
              "      </button>\n",
              "      \n",
              "  <style>\n",
              "    .colab-df-container {\n",
              "      display:flex;\n",
              "      flex-wrap:wrap;\n",
              "      gap: 12px;\n",
              "    }\n",
              "\n",
              "    .colab-df-convert {\n",
              "      background-color: #E8F0FE;\n",
              "      border: none;\n",
              "      border-radius: 50%;\n",
              "      cursor: pointer;\n",
              "      display: none;\n",
              "      fill: #1967D2;\n",
              "      height: 32px;\n",
              "      padding: 0 0 0 0;\n",
              "      width: 32px;\n",
              "    }\n",
              "\n",
              "    .colab-df-convert:hover {\n",
              "      background-color: #E2EBFA;\n",
              "      box-shadow: 0px 1px 2px rgba(60, 64, 67, 0.3), 0px 1px 3px 1px rgba(60, 64, 67, 0.15);\n",
              "      fill: #174EA6;\n",
              "    }\n",
              "\n",
              "    [theme=dark] .colab-df-convert {\n",
              "      background-color: #3B4455;\n",
              "      fill: #D2E3FC;\n",
              "    }\n",
              "\n",
              "    [theme=dark] .colab-df-convert:hover {\n",
              "      background-color: #434B5C;\n",
              "      box-shadow: 0px 1px 3px 1px rgba(0, 0, 0, 0.15);\n",
              "      filter: drop-shadow(0px 1px 2px rgba(0, 0, 0, 0.3));\n",
              "      fill: #FFFFFF;\n",
              "    }\n",
              "  </style>\n",
              "\n",
              "      <script>\n",
              "        const buttonEl =\n",
              "          document.querySelector('#df-b491011c-0bca-4f71-83a1-e1cfa205c9f4 button.colab-df-convert');\n",
              "        buttonEl.style.display =\n",
              "          google.colab.kernel.accessAllowed ? 'block' : 'none';\n",
              "\n",
              "        async function convertToInteractive(key) {\n",
              "          const element = document.querySelector('#df-b491011c-0bca-4f71-83a1-e1cfa205c9f4');\n",
              "          const dataTable =\n",
              "            await google.colab.kernel.invokeFunction('convertToInteractive',\n",
              "                                                     [key], {});\n",
              "          if (!dataTable) return;\n",
              "\n",
              "          const docLinkHtml = 'Like what you see? Visit the ' +\n",
              "            '<a target=\"_blank\" href=https://colab.research.google.com/notebooks/data_table.ipynb>data table notebook</a>'\n",
              "            + ' to learn more about interactive tables.';\n",
              "          element.innerHTML = '';\n",
              "          dataTable['output_type'] = 'display_data';\n",
              "          await google.colab.output.renderOutput(dataTable, element);\n",
              "          const docLink = document.createElement('div');\n",
              "          docLink.innerHTML = docLinkHtml;\n",
              "          element.appendChild(docLink);\n",
              "        }\n",
              "      </script>\n",
              "    </div>\n",
              "  </div>\n",
              "  "
            ]
          },
          "metadata": {},
          "execution_count": 5
        }
      ]
    },
    {
      "cell_type": "code",
      "source": [
        "## checking the blance of traing data\n",
        "clean_train.target.value_counts()"
      ],
      "metadata": {
        "colab": {
          "base_uri": "https://localhost:8080/"
        },
        "id": "L9Il_fN8FnBH",
        "outputId": "e8cad734-efb6-426a-c7cb-80712620a0c1"
      },
      "execution_count": 6,
      "outputs": [
        {
          "output_type": "execute_result",
          "data": {
            "text/plain": [
              "0    2892\n",
              "1     452\n",
              "Name: target, dtype: int64"
            ]
          },
          "metadata": {},
          "execution_count": 6
        }
      ]
    },
    {
      "cell_type": "code",
      "source": [
        "### our data is imbalance with more value of 0 and less value of 1 so we will use smote oversampling for balancing the dataset"
      ],
      "metadata": {
        "id": "qwK3L8IbZI5G"
      },
      "execution_count": null,
      "outputs": []
    },
    {
      "cell_type": "code",
      "source": [
        "X_train = clean_train.loc[:, clean_train.columns != 'target']"
      ],
      "metadata": {
        "id": "-BcrKQzEG9T_"
      },
      "execution_count": 9,
      "outputs": []
    },
    {
      "cell_type": "code",
      "source": [
        "X_train=  X_train.values\n",
        "Y_train = clean_train['target'].values"
      ],
      "metadata": {
        "id": "l5MaoAjYHVfy"
      },
      "execution_count": 10,
      "outputs": []
    },
    {
      "cell_type": "code",
      "source": [
        "## our dataset in imbalnce making this balance using smote\n",
        "oversample = SMOTE(random_state=42)\n",
        "X_over, y_over = oversample.fit_resample(X_train, Y_train) ## balnced dataset\n"
      ],
      "metadata": {
        "id": "P1e6_MgWF-aN"
      },
      "execution_count": 11,
      "outputs": []
    },
    {
      "cell_type": "code",
      "source": [],
      "metadata": {
        "id": "gEgGfTpjGq71"
      },
      "execution_count": null,
      "outputs": []
    },
    {
      "cell_type": "code",
      "source": [],
      "metadata": {
        "id": "AzDfH7pFUBz0"
      },
      "execution_count": null,
      "outputs": []
    },
    {
      "cell_type": "markdown",
      "source": [
        "**logistic Regression model**"
      ],
      "metadata": {
        "id": "9qvutjNzUDi_"
      }
    },
    {
      "cell_type": "code",
      "source": [
        "from sklearn.linear_model import LogisticRegression"
      ],
      "metadata": {
        "id": "pYB8Q-DQUJsE"
      },
      "execution_count": 12,
      "outputs": []
    },
    {
      "cell_type": "code",
      "source": [
        "log = LogisticRegression()"
      ],
      "metadata": {
        "id": "FI8YKdpUUJlm"
      },
      "execution_count": 13,
      "outputs": []
    },
    {
      "cell_type": "code",
      "source": [
        "model0=log.fit(X_over,y_over)"
      ],
      "metadata": {
        "id": "iOPw_i5-UJXu"
      },
      "execution_count": 14,
      "outputs": []
    },
    {
      "cell_type": "code",
      "source": [
        "## vailading the accuracy of model\n",
        "X_vaild=clean_valid.loc[:, clean_valid.columns != 'target'].values\n",
        "Y_valid = clean_valid['target'].values"
      ],
      "metadata": {
        "id": "qMTiGmtiUeDe"
      },
      "execution_count": 15,
      "outputs": []
    },
    {
      "cell_type": "code",
      "source": [
        "Y_predict = model0.predict(X_vaild)"
      ],
      "metadata": {
        "id": "tN0eIFvzUeIR"
      },
      "execution_count": 16,
      "outputs": []
    },
    {
      "cell_type": "code",
      "source": [
        "print('accuracy of logistic regression on validation data is '+str(accuracy_score(Y_predict,Y_valid)))\n"
      ],
      "metadata": {
        "colab": {
          "base_uri": "https://localhost:8080/"
        },
        "id": "s4LMsfdMUoW-",
        "outputId": "cd9b8301-0d12-4a7f-fb97-146e86a1294c"
      },
      "execution_count": 19,
      "outputs": [
        {
          "output_type": "stream",
          "name": "stdout",
          "text": [
            "accuracy of logistic regression on validation data is 0.7874439461883408\n"
          ]
        }
      ]
    },
    {
      "cell_type": "code",
      "source": [
        "print(classification_report(Y_valid,Y_predict))"
      ],
      "metadata": {
        "colab": {
          "base_uri": "https://localhost:8080/"
        },
        "id": "q1uPdkzfU1uu",
        "outputId": "8a743119-7c8a-4cf5-b658-ce1bd9dd3641"
      },
      "execution_count": 18,
      "outputs": [
        {
          "output_type": "stream",
          "name": "stdout",
          "text": [
            "              precision    recall  f1-score   support\n",
            "\n",
            "           0       0.91      0.84      0.87       975\n",
            "           1       0.27      0.42      0.33       140\n",
            "\n",
            "    accuracy                           0.79      1115\n",
            "   macro avg       0.59      0.63      0.60      1115\n",
            "weighted avg       0.83      0.79      0.81      1115\n",
            "\n"
          ]
        }
      ]
    },
    {
      "cell_type": "code",
      "source": [
        "Y_train_predict = model0.predict(X_train)"
      ],
      "metadata": {
        "id": "-lt5FOunaKwW"
      },
      "execution_count": 20,
      "outputs": []
    },
    {
      "cell_type": "code",
      "source": [
        "## scoring on training data\n",
        "print('accuracy of logistic regression on training data is '+str(accuracy_score(Y_train_predict,Y_train)))\n"
      ],
      "metadata": {
        "colab": {
          "base_uri": "https://localhost:8080/"
        },
        "id": "KMzQdggGZ_Rr",
        "outputId": "a0c38da3-2e25-4d1f-9f8d-6907e7c2b4b5"
      },
      "execution_count": 22,
      "outputs": [
        {
          "output_type": "stream",
          "name": "stdout",
          "text": [
            "accuracy of logistic regression on training data is 0.9404904306220095\n"
          ]
        }
      ]
    },
    {
      "cell_type": "markdown",
      "source": [
        "**Gaussian naive Bayes**"
      ],
      "metadata": {
        "id": "NjmJtBswRGa7"
      }
    },
    {
      "cell_type": "code",
      "source": [
        "from sklearn.naive_bayes import GaussianNB"
      ],
      "metadata": {
        "id": "MvGbswIfaaIS"
      },
      "execution_count": 24,
      "outputs": []
    },
    {
      "cell_type": "code",
      "source": [
        "gnb = GaussianNB()"
      ],
      "metadata": {
        "id": "xBeIoiy6I3fe"
      },
      "execution_count": 25,
      "outputs": []
    },
    {
      "cell_type": "code",
      "source": [
        "model= gnb.fit(X_over,y_over)"
      ],
      "metadata": {
        "id": "QBCpKf9yJDF1"
      },
      "execution_count": 26,
      "outputs": []
    },
    {
      "cell_type": "code",
      "source": [
        "## vailading the accuracy of model\n",
        "X_vaild=clean_valid.loc[:, clean_valid.columns != 'target'].values\n",
        "Y_valid = clean_valid['target'].values"
      ],
      "metadata": {
        "id": "i8ITBecSJGFd"
      },
      "execution_count": 27,
      "outputs": []
    },
    {
      "cell_type": "code",
      "source": [
        "Y_predict = model.predict(X_vaild)"
      ],
      "metadata": {
        "id": "TUYTD6r9OXWJ"
      },
      "execution_count": 28,
      "outputs": []
    },
    {
      "cell_type": "code",
      "source": [
        "print('accuracy of gaussian naive bayes is '+str(accuracy_score(Y_predict,Y_valid)))"
      ],
      "metadata": {
        "colab": {
          "base_uri": "https://localhost:8080/"
        },
        "id": "c7WzN657Pd8P",
        "outputId": "c3860953-d5e6-40bf-c229-519f37ad8a25"
      },
      "execution_count": 29,
      "outputs": [
        {
          "output_type": "stream",
          "name": "stdout",
          "text": [
            "accuracy of gaussian naive bayes is 0.5354260089686098\n"
          ]
        }
      ]
    },
    {
      "cell_type": "code",
      "source": [
        "print(classification_report(Y_valid,Y_predict))"
      ],
      "metadata": {
        "colab": {
          "base_uri": "https://localhost:8080/"
        },
        "id": "faFjqcQZOkJV",
        "outputId": "26ce48dd-ab26-49d8-d21a-e1649897ef60"
      },
      "execution_count": 30,
      "outputs": [
        {
          "output_type": "stream",
          "name": "stdout",
          "text": [
            "              precision    recall  f1-score   support\n",
            "\n",
            "           0       0.91      0.52      0.66       975\n",
            "           1       0.16      0.64      0.26       140\n",
            "\n",
            "    accuracy                           0.54      1115\n",
            "   macro avg       0.53      0.58      0.46      1115\n",
            "weighted avg       0.81      0.54      0.61      1115\n",
            "\n"
          ]
        }
      ]
    },
    {
      "cell_type": "code",
      "source": [
        "## scoring on training data\n",
        "Y_train_predict = model.predict(X_train)\n"
      ],
      "metadata": {
        "id": "ZI_g-nAvQ985"
      },
      "execution_count": 31,
      "outputs": []
    },
    {
      "cell_type": "code",
      "source": [
        "print('accuracy of naive bayes on training data is '+str(accuracy_score(Y_train_predict,Y_train)))"
      ],
      "metadata": {
        "colab": {
          "base_uri": "https://localhost:8080/"
        },
        "id": "iP_8Hf6Da1Yv",
        "outputId": "8ada84b5-962e-46a6-ba58-96f8e8f82c2b"
      },
      "execution_count": 32,
      "outputs": [
        {
          "output_type": "stream",
          "name": "stdout",
          "text": [
            "accuracy of naive bayes on training data is 0.5583133971291866\n"
          ]
        }
      ]
    },
    {
      "cell_type": "markdown",
      "source": [
        "**Random Forest**"
      ],
      "metadata": {
        "id": "FA88a6J1Q-Fv"
      }
    },
    {
      "cell_type": "code",
      "source": [
        "## using Random forest\n",
        "from sklearn.ensemble import RandomForestClassifier"
      ],
      "metadata": {
        "id": "Qckb0XG_O1lF"
      },
      "execution_count": 33,
      "outputs": []
    },
    {
      "cell_type": "code",
      "source": [
        "clf = RandomForestClassifier(max_depth=10, random_state=0, class_weight = 'balanced') ## max depth is hyperparameter we have tuned by checking accuracy on different value"
      ],
      "metadata": {
        "id": "qaRb0Ly0PQY7"
      },
      "execution_count": 66,
      "outputs": []
    },
    {
      "cell_type": "code",
      "source": [
        "model2 = clf.fit(X_train,Y_train)"
      ],
      "metadata": {
        "id": "a34D7D61P8wV"
      },
      "execution_count": 67,
      "outputs": []
    },
    {
      "cell_type": "code",
      "source": [
        "Y_predict = model2.predict(X_vaild)"
      ],
      "metadata": {
        "id": "-d1iuy1dQCUV"
      },
      "execution_count": 68,
      "outputs": []
    },
    {
      "cell_type": "code",
      "source": [
        "print('accuracy of random forest classifier is '+str(accuracy_score(Y_predict,Y_valid)))"
      ],
      "metadata": {
        "colab": {
          "base_uri": "https://localhost:8080/"
        },
        "id": "Rs0nxaWjQGl1",
        "outputId": "aaad8cc7-def7-456e-c254-f651b3646f1d"
      },
      "execution_count": 69,
      "outputs": [
        {
          "output_type": "stream",
          "name": "stdout",
          "text": [
            "accuracy of random forest classifier is 0.8699551569506726\n"
          ]
        }
      ]
    },
    {
      "cell_type": "code",
      "source": [
        "print(classification_report(Y_valid,Y_predict))"
      ],
      "metadata": {
        "colab": {
          "base_uri": "https://localhost:8080/"
        },
        "id": "0QBAFavLQJC9",
        "outputId": "0188f3e6-8071-4a6b-c583-e7e98217392b"
      },
      "execution_count": 70,
      "outputs": [
        {
          "output_type": "stream",
          "name": "stdout",
          "text": [
            "              precision    recall  f1-score   support\n",
            "\n",
            "           0       0.87      0.99      0.93       975\n",
            "           1       0.00      0.00      0.00       140\n",
            "\n",
            "    accuracy                           0.87      1115\n",
            "   macro avg       0.44      0.50      0.47      1115\n",
            "weighted avg       0.76      0.87      0.81      1115\n",
            "\n"
          ]
        }
      ]
    },
    {
      "cell_type": "code",
      "source": [
        "## scoring on training data\n",
        "Y_train_predict = model2.predict(X_train)"
      ],
      "metadata": {
        "id": "PiZRd6ajQMnN"
      },
      "execution_count": 71,
      "outputs": []
    },
    {
      "cell_type": "code",
      "source": [
        "print('accuracy of Random forest on training data is '+str(accuracy_score(Y_train_predict,Y_train)))"
      ],
      "metadata": {
        "colab": {
          "base_uri": "https://localhost:8080/"
        },
        "id": "__Nn_egucEfZ",
        "outputId": "8f81fdb1-cdc4-4b93-cdfc-03d32e83abd3"
      },
      "execution_count": 72,
      "outputs": [
        {
          "output_type": "stream",
          "name": "stdout",
          "text": [
            "accuracy of Random forest on training data is 0.9913277511961722\n"
          ]
        }
      ]
    },
    {
      "cell_type": "markdown",
      "source": [
        "**AdaBoost Classifier**"
      ],
      "metadata": {
        "id": "-wSnoUW0Rrlc"
      }
    },
    {
      "cell_type": "code",
      "source": [
        "from sklearn.ensemble import AdaBoostClassifier"
      ],
      "metadata": {
        "id": "F1VbM83oRvw8"
      },
      "execution_count": 73,
      "outputs": []
    },
    {
      "cell_type": "code",
      "source": [
        "ada = AdaBoostClassifier(n_estimators=100, random_state=0)"
      ],
      "metadata": {
        "id": "Do2IMpB7RzO-"
      },
      "execution_count": 74,
      "outputs": []
    },
    {
      "cell_type": "code",
      "source": [
        "model3 = ada.fit(X_train,Y_train)"
      ],
      "metadata": {
        "id": "qoNCxilvR4gd"
      },
      "execution_count": 75,
      "outputs": []
    },
    {
      "cell_type": "code",
      "source": [
        "Y_predict = model3.predict(X_vaild)"
      ],
      "metadata": {
        "id": "LdcereFOR-4J"
      },
      "execution_count": 76,
      "outputs": []
    },
    {
      "cell_type": "code",
      "source": [
        "print('accuracy of AdaBoost classifier is '+str(accuracy_score(Y_predict,Y_valid)))"
      ],
      "metadata": {
        "colab": {
          "base_uri": "https://localhost:8080/"
        },
        "id": "1I-98KcDR_jQ",
        "outputId": "0414a2fa-f011-49b9-9e5c-ec8e5c341f5d"
      },
      "execution_count": 77,
      "outputs": [
        {
          "output_type": "stream",
          "name": "stdout",
          "text": [
            "accuracy of AdaBoost classifier is 0.852017937219731\n"
          ]
        }
      ]
    },
    {
      "cell_type": "code",
      "source": [
        "print(classification_report(Y_valid,Y_predict))"
      ],
      "metadata": {
        "colab": {
          "base_uri": "https://localhost:8080/"
        },
        "id": "wPUKYioFSEw8",
        "outputId": "d3da47f8-590d-43f0-e6aa-eb4ec5b73b36"
      },
      "execution_count": 78,
      "outputs": [
        {
          "output_type": "stream",
          "name": "stdout",
          "text": [
            "              precision    recall  f1-score   support\n",
            "\n",
            "           0       0.90      0.93      0.92       975\n",
            "           1       0.39      0.31      0.34       140\n",
            "\n",
            "    accuracy                           0.85      1115\n",
            "   macro avg       0.65      0.62      0.63      1115\n",
            "weighted avg       0.84      0.85      0.84      1115\n",
            "\n"
          ]
        }
      ]
    },
    {
      "cell_type": "code",
      "source": [
        "## scoring on training data\n",
        "Y_train_predict = model3.predict(X_train)"
      ],
      "metadata": {
        "id": "-skcFgXGcZi8"
      },
      "execution_count": 79,
      "outputs": []
    },
    {
      "cell_type": "code",
      "source": [
        "print('accuracy of Random forest on training data is '+str(accuracy_score(Y_train_predict,Y_train)))"
      ],
      "metadata": {
        "id": "vdzgv1gYSJml",
        "colab": {
          "base_uri": "https://localhost:8080/"
        },
        "outputId": "81a4fee4-7152-424a-a89b-159c2040e1c0"
      },
      "execution_count": 80,
      "outputs": [
        {
          "output_type": "stream",
          "name": "stdout",
          "text": [
            "accuracy of Random forest on training data is 0.978767942583732\n"
          ]
        }
      ]
    },
    {
      "cell_type": "markdown",
      "source": [
        "**scoring on test data**\n",
        "\n",
        "**1) Logistic Regression**"
      ],
      "metadata": {
        "id": "a4TGx0A_SXnz"
      }
    },
    {
      "cell_type": "code",
      "source": [
        "## final_accuary on test data\n",
        "\n",
        "X_test=clean_test.loc[:, clean_test.columns != 'target'].values\n",
        "Y_test = clean_test['target'].values\n"
      ],
      "metadata": {
        "id": "0bU1EDB7S1W-"
      },
      "execution_count": 81,
      "outputs": []
    },
    {
      "cell_type": "code",
      "source": [
        "Y_final_predict = model0.predict(X_test)"
      ],
      "metadata": {
        "id": "pCXMlsu_Sej0"
      },
      "execution_count": 83,
      "outputs": []
    },
    {
      "cell_type": "code",
      "source": [
        "print(classification_report(Y_test,Y_final_predict))"
      ],
      "metadata": {
        "colab": {
          "base_uri": "https://localhost:8080/"
        },
        "id": "_qnoFvRycYL2",
        "outputId": "af3ddcc9-7af0-476e-b5d2-df387b81c0da"
      },
      "execution_count": 84,
      "outputs": [
        {
          "output_type": "stream",
          "name": "stdout",
          "text": [
            "              precision    recall  f1-score   support\n",
            "\n",
            "           0       0.96      0.88      0.92       960\n",
            "           1       0.51      0.79      0.62       155\n",
            "\n",
            "    accuracy                           0.87      1115\n",
            "   macro avg       0.74      0.83      0.77      1115\n",
            "weighted avg       0.90      0.87      0.88      1115\n",
            "\n"
          ]
        }
      ]
    },
    {
      "cell_type": "code",
      "source": [
        "print(\"Final accuracy of logistic regression model is \"+str(accuracy_score(Y_final_predict,Y_test)))"
      ],
      "metadata": {
        "colab": {
          "base_uri": "https://localhost:8080/"
        },
        "id": "xi44l46tccjm",
        "outputId": "5006b0f3-ddb7-4640-e478-b44c7413468b"
      },
      "execution_count": 85,
      "outputs": [
        {
          "output_type": "stream",
          "name": "stdout",
          "text": [
            "Final accuracy of logistic regression model is 0.8663677130044843\n"
          ]
        }
      ]
    },
    {
      "cell_type": "markdown",
      "source": [
        "**2) Naive Bayes**"
      ],
      "metadata": {
        "id": "Vg1dhrDweAvG"
      }
    },
    {
      "cell_type": "code",
      "source": [
        "Y_final_predict = model.predict(X_test)\n",
        "print(classification_report(Y_test,Y_final_predict))"
      ],
      "metadata": {
        "id": "Y0SF-hLBctm9",
        "colab": {
          "base_uri": "https://localhost:8080/"
        },
        "outputId": "1f4ecd6b-19cd-4669-dc6c-4a80d33aa25a"
      },
      "execution_count": 86,
      "outputs": [
        {
          "output_type": "stream",
          "name": "stdout",
          "text": [
            "              precision    recall  f1-score   support\n",
            "\n",
            "           0       0.96      0.54      0.69       960\n",
            "           1       0.23      0.85      0.36       155\n",
            "\n",
            "    accuracy                           0.58      1115\n",
            "   macro avg       0.59      0.69      0.52      1115\n",
            "weighted avg       0.85      0.58      0.64      1115\n",
            "\n"
          ]
        }
      ]
    },
    {
      "cell_type": "code",
      "source": [
        "print(\"Final accuracy of naive bayes model is \"+str(accuracy_score(Y_final_predict,Y_test)))"
      ],
      "metadata": {
        "colab": {
          "base_uri": "https://localhost:8080/"
        },
        "id": "-T28l_qMdF21",
        "outputId": "a8c9ff45-acf9-48b6-b038-e177e396fe21"
      },
      "execution_count": 87,
      "outputs": [
        {
          "output_type": "stream",
          "name": "stdout",
          "text": [
            "Final accuracy of naive bayes model is 0.5820627802690583\n"
          ]
        }
      ]
    },
    {
      "cell_type": "markdown",
      "source": [
        "**3) Random Forest**"
      ],
      "metadata": {
        "id": "oOajJ8yceGii"
      }
    },
    {
      "cell_type": "code",
      "source": [
        "Y_final_predict = model2.predict(X_test)\n",
        "print(classification_report(Y_test,Y_final_predict))"
      ],
      "metadata": {
        "colab": {
          "base_uri": "https://localhost:8080/"
        },
        "id": "1FvGd_X2dLje",
        "outputId": "da96568c-2b1e-4a18-a322-01f83e8a73fa"
      },
      "execution_count": 88,
      "outputs": [
        {
          "output_type": "stream",
          "name": "stdout",
          "text": [
            "              precision    recall  f1-score   support\n",
            "\n",
            "           0       0.92      0.99      0.95       960\n",
            "           1       0.89      0.48      0.62       155\n",
            "\n",
            "    accuracy                           0.92      1115\n",
            "   macro avg       0.91      0.73      0.79      1115\n",
            "weighted avg       0.92      0.92      0.91      1115\n",
            "\n"
          ]
        }
      ]
    },
    {
      "cell_type": "code",
      "source": [
        "print(\"Final accuracy of Random Forest model is \"+str(accuracy_score(Y_final_predict,Y_test)))"
      ],
      "metadata": {
        "colab": {
          "base_uri": "https://localhost:8080/"
        },
        "id": "ufyawTXndRTZ",
        "outputId": "6b631a5c-c53e-4a67-ce34-a7e75b7897f8"
      },
      "execution_count": 89,
      "outputs": [
        {
          "output_type": "stream",
          "name": "stdout",
          "text": [
            "Final accuracy of Random Forest model is 0.9192825112107623\n"
          ]
        }
      ]
    },
    {
      "cell_type": "markdown",
      "source": [
        "**4) Adaboost Model**"
      ],
      "metadata": {
        "id": "V8ttdLe0eK9v"
      }
    },
    {
      "cell_type": "code",
      "source": [
        "Y_final_predict = model3.predict(X_test)\n",
        "print(classification_report(Y_test,Y_final_predict))"
      ],
      "metadata": {
        "colab": {
          "base_uri": "https://localhost:8080/"
        },
        "id": "m00WD3h2dYOp",
        "outputId": "5c918f30-81ed-4630-8659-294d89ec7c18"
      },
      "execution_count": 90,
      "outputs": [
        {
          "output_type": "stream",
          "name": "stdout",
          "text": [
            "              precision    recall  f1-score   support\n",
            "\n",
            "           0       0.93      0.88      0.90       960\n",
            "           1       0.43      0.57      0.49       155\n",
            "\n",
            "    accuracy                           0.83      1115\n",
            "   macro avg       0.68      0.72      0.70      1115\n",
            "weighted avg       0.86      0.83      0.84      1115\n",
            "\n"
          ]
        }
      ]
    },
    {
      "cell_type": "code",
      "source": [
        "print(\"Final accuracy of Adaboost model is \"+str(accuracy_score(Y_final_predict,Y_test)))"
      ],
      "metadata": {
        "colab": {
          "base_uri": "https://localhost:8080/"
        },
        "id": "gG70_0X0dpva",
        "outputId": "6ee0ed0f-2c8b-4f27-e90e-7513c840162b"
      },
      "execution_count": 92,
      "outputs": [
        {
          "output_type": "stream",
          "name": "stdout",
          "text": [
            "Final accuracy of Adaboost model is 0.8349775784753363\n"
          ]
        }
      ]
    },
    {
      "cell_type": "markdown",
      "source": [
        "A analysis on every model and which model to choose\n",
        "\n",
        "*   we can reject naive bayes as it's accuracy and all other metric is comparetivly bad \n",
        "* we can also reject logistic regression as Random forest outform logistic regression in every metric\n",
        "*   for Random Forest and Adaboost we can choose to use Random forest as it has better metric.\n",
        "* finally we concluded that we can work with Random Forest model \n",
        "\n",
        "\n",
        "\n",
        "\n",
        "\n"
      ],
      "metadata": {
        "id": "jx-ImNu_cquC"
      }
    },
    {
      "cell_type": "code",
      "source": [],
      "metadata": {
        "id": "2Jl8M7k-crac"
      },
      "execution_count": null,
      "outputs": []
    }
  ]
}